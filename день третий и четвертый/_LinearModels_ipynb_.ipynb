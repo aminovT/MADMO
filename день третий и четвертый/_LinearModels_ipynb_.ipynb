{
  "nbformat": 4,
  "nbformat_minor": 0,
  "metadata": {
    "colab": {
      "name": "\"LinearModels.ipynb\"",
      "provenance": [],
      "collapsed_sections": [
        "myBpOPkgLxG4",
        "2Xs5fiCULxH8",
        "BA0-si5yLxIQ",
        "kbtSkF1rLxIj",
        "W1SJxDmPLxIm",
        "mc3MET9pLxI-"
      ]
    },
    "kernelspec": {
      "display_name": "Python 3",
      "language": "python",
      "name": "python3"
    },
    "language_info": {
      "codemirror_mode": {
        "name": "ipython",
        "version": 3
      },
      "file_extension": ".py",
      "mimetype": "text/x-python",
      "name": "python",
      "nbconvert_exporter": "python",
      "pygments_lexer": "ipython3",
      "version": "3.8.3"
    }
  },
  "cells": [
    {
      "cell_type": "markdown",
      "metadata": {
        "id": "BLw6GmEWLxGB"
      },
      "source": [
        "### Линейные методы в машинном обучении"
      ]
    },
    {
      "cell_type": "code",
      "metadata": {
        "id": "hDnr8VYyLxGD"
      },
      "source": [
        "import numpy as np\n",
        "import pandas as pd\n",
        "from matplotlib import pyplot as plt\n",
        "%matplotlib inline"
      ],
      "execution_count": null,
      "outputs": []
    },
    {
      "cell_type": "markdown",
      "metadata": {
        "id": "Zy654FJnLxGJ"
      },
      "source": [
        "#### Линейная регрессия"
      ]
    },
    {
      "cell_type": "markdown",
      "metadata": {
        "id": "HpRpqszbLxGL"
      },
      "source": [
        "Линейные методы предполагают, что между признаками объекта и целевой переменной существует линейная зависимость, то есть:\n",
        "$$ y = w_1 x_1 + w_2 x_2 + ... + w_k x_k + b $$,\n",
        "где у - целевая переменная (что мы хотим предсказать), $x_i$ -- признак объекта х, $w_i$ -- вес i-го признака, b -- bias (смещение, свободный член)\n",
        "\n",
        "Часто предполагают, что объект х содержит в себе фиктивный признак, который всегда равен 1, тогда bias это есть вес этого признака. В этом случае формула принимает простой вид:\n",
        "$$ y = <w, x> $$,\n",
        "где $<\\cdot, \\cdot>$ -- скалярное произведение векторов.\n",
        "\n",
        "В матричной форме, в случае, когда у нас есть n объектов формулу можно переписать следующим образом:\n",
        "$$ Y = Xw $$,\n",
        "Y -- вектор размера n, X -- матрица объекты-признаки размера $n \\times k$, w -- вектор весов размера k.\n",
        "\n",
        "Решение по методу наименьших квадратов дает \n",
        "$$ w = (X^TX)^{-1}X^TY $$"
      ]
    },
    {
      "cell_type": "markdown",
      "metadata": {
        "id": "-CKnnTPyLxGM"
      },
      "source": [
        "#### Задание 1"
      ]
    },
    {
      "cell_type": "markdown",
      "metadata": {
        "id": "lQsCB_jMLxGO"
      },
      "source": [
        "Реализуйте линейную регрессию, которая вычисляет веса признаков по формуле указанной выше\n",
        "\n",
        "np.linalg.inv() - функция. которая возвращает обратную матрицу"
      ]
    },
    {
      "cell_type": "code",
      "metadata": {
        "id": "eurT_8N6LxGQ"
      },
      "source": [
        "class MyLinearRegression:\n",
        "    \n",
        "    def __init__(self):\n",
        "        self.w = None\n",
        "        pass\n",
        "    \n",
        "    def fit(self, X, y):\n",
        "        # Принимает на вход X, y и вычисляет веса по данной выборке\n",
        "        # Не забудьте про фиктивный признак равный 1!\n",
        "        a = np.ones([len(X) , 1])\n",
        "        X = np.concatenate( [X , a], 1) \n",
        "        # В эту переменную нужно сохранить результат:\n",
        "        #np.dot(  A , B ) == A@B\n",
        "        self.w = np.linalg.inv(X.T@X)@X.T@y\n",
        "        \n",
        "    def predict(self, X):\n",
        "        # Принимает на вход X и возвращает ответы модели\n",
        "        # Не забудьте про фиктивный признак равный 1!\n",
        "        a = np.ones([len(X) , 1])\n",
        "        X = np.concatenate( [X , a], 1) \n",
        "        \n",
        "        y_pred = X@self.w # Результат предсказания\n",
        "        return y_pred\n",
        "    \n",
        "    def get_weights(self):\n",
        "        return self.w  #тут тоже что-то нужно исправить "
      ],
      "execution_count": null,
      "outputs": []
    },
    {
      "cell_type": "markdown",
      "metadata": {
        "id": "XGujIuQlLxGV"
      },
      "source": [
        "Протестируем нашу модель на искуственных данных"
      ]
    },
    {
      "cell_type": "code",
      "metadata": {
        "id": "0-HQdBzxLxGX"
      },
      "source": [
        "X = np.linspace(10, 20, 100)\n",
        "y = -3 * X + 100\n",
        "\n",
        "X_train = X[:50].reshape(-1, 1)\n",
        "y_train = y[:50] + np.random.randn(50) * 10\n",
        "\n",
        "X_test = X[50:].reshape(-1, 1)\n",
        "y_test = y[50:] + np.random.randn(50) * 10"
      ],
      "execution_count": null,
      "outputs": []
    },
    {
      "cell_type": "code",
      "metadata": {
        "id": "UP1A9SvcLxGc",
        "colab": {
          "base_uri": "https://localhost:8080/"
        },
        "outputId": "18788047-876c-45fb-db25-2777d3ebc4b7"
      },
      "source": [
        "print(X_train.shape)\n",
        "print(y_train.shape)"
      ],
      "execution_count": null,
      "outputs": [
        {
          "output_type": "stream",
          "text": [
            "(50, 1)\n",
            "(50,)\n"
          ],
          "name": "stdout"
        }
      ]
    },
    {
      "cell_type": "code",
      "metadata": {
        "id": "FidrfPeLLxGi",
        "colab": {
          "base_uri": "https://localhost:8080/",
          "height": 324
        },
        "outputId": "b5d611f2-5cd5-4343-df67-05cfcae9f8a5"
      },
      "source": [
        "plt.figure(figsize=(10, 5))\n",
        "plt.plot(X, y, label='real')\n",
        "plt.scatter(X_train, y_train, label='train')\n",
        "plt.scatter(X_test, y_test, label='test')\n",
        "plt.legend()\n",
        "plt.show()"
      ],
      "execution_count": null,
      "outputs": [
        {
          "output_type": "display_data",
          "data": {
            "image/png": "[encoded data removed]",
            "text/plain": [
              "<Figure size 720x360 with 1 Axes>"
            ]
          },
          "metadata": {
            "tags": [],
            "needs_background": "light"
          }
        }
      ]
    },
    {
      "cell_type": "code",
      "metadata": {
        "id": "zmp6r2tnLxGo"
      },
      "source": [
        ""
      ],
      "execution_count": null,
      "outputs": []
    },
    {
      "cell_type": "markdown",
      "metadata": {
        "id": "eDbTplr7LxGt"
      },
      "source": [
        "#### Задание 2\n",
        "\n",
        "Обучите вашу модель на тренировочной выборке и предскажите значения на тесте.\n",
        "Предсказанные ответы сохраните в переменную $\\textbf{predictions}$, а веса модели сохраните в переменную $\\textbf{w}$"
      ]
    },
    {
      "cell_type": "code",
      "metadata": {
        "id": "Dl6_mPTjLxGv"
      },
      "source": [
        "regressor = MyLinearRegression()\n",
        "\n",
        "regressor.fit(X_train , y_train)"
      ],
      "execution_count": null,
      "outputs": []
    },
    {
      "cell_type": "markdown",
      "metadata": {
        "id": "d8xip8udLxGz"
      },
      "source": [
        "Визуализируем предсказания"
      ]
    },
    {
      "cell_type": "code",
      "metadata": {
        "id": "VfMdmgvkLxG0",
        "colab": {
          "base_uri": "https://localhost:8080/",
          "height": 324
        },
        "outputId": "a06f0de9-d1e9-4c61-ee0b-f9461f43a842"
      },
      "source": [
        "plt.figure(figsize=(10, 5))\n",
        "plt.plot(X, y, label='real')\n",
        "plt.scatter(X_train, y_train, label='train')\n",
        "plt.scatter(X_test, y_test, label='test')\n",
        "plt.plot(X, regressor.predict(X.reshape(-1, 1)), label='predicted')\n",
        "plt.legend()\n",
        "plt.show()"
      ],
      "execution_count": null,
      "outputs": [
        {
          "output_type": "display_data",
          "data": {
            "image/png": "[encoded data removed]",
            "text/plain": [
              "<Figure size 720x360 with 1 Axes>"
            ]
          },
          "metadata": {
            "tags": [],
            "needs_background": "light"
          }
        }
      ]
    },
    {
      "cell_type": "markdown",
      "metadata": {
        "id": "myBpOPkgLxG4"
      },
      "source": [
        "#### Задание 3\n",
        "\n",
        "Вычислите среднеквадратичную ошибку на трейне и на тесте.\n",
        "Какие результаты вы ожидаете получить? Какие получились? Почему?"
      ]
    },
    {
      "cell_type": "code",
      "metadata": {
        "id": "9O41QRH1LxG7",
        "colab": {
          "base_uri": "https://localhost:8080/"
        },
        "outputId": "a25852f7-f980-4133-f1cb-1ebd13f1019d"
      },
      "source": [
        "from sklearn.metrics import mean_squared_error\n",
        "\n",
        "# ВАШ КОД ЗДЕСЬ\n",
        "\n",
        "print('Train RMSE: ',mean_squared_error(y_train, regressor.predict(X_train) , squared = False))\n",
        "print('Test RMSE: ', np.sqrt(mean_squared_error(y_test, regressor.predict(X_test))))"
      ],
      "execution_count": null,
      "outputs": [
        {
          "output_type": "stream",
          "text": [
            "Train RMSE:  11.401815375521155\n",
            "Test RMSE:  10.510630007576221\n"
          ],
          "name": "stdout"
        }
      ]
    },
    {
      "cell_type": "code",
      "metadata": {
        "id": "TqnyA_UZbq16",
        "colab": {
          "base_uri": "https://localhost:8080/",
          "height": 320
        },
        "outputId": "df7ac074-89a7-400f-ecf5-62a671b95890"
      },
      "source": [
        "X = np.linspace(-20, 20, 100)\n",
        "y = -1 * X**2  + 100\n",
        "\n",
        "X_train = X[:50].reshape(-1, 1)\n",
        "y_train = y[:50] + np.random.randn(50) * 10\n",
        "\n",
        "X_test = X[50:].reshape(-1, 1)\n",
        "y_test = y[50:] + np.random.randn(50) * 10\n",
        "\n",
        "plt.figure(figsize=(10, 5))\n",
        "plt.plot(X, y, label='real')\n",
        "plt.scatter(X_train, y_train, label='train')\n",
        "plt.scatter(X_test, y_test, label='test')\n",
        "plt.legend()\n",
        "plt.show()"
      ],
      "execution_count": null,
      "outputs": [
        {
          "output_type": "display_data",
          "data": {
            "image/png": "[encoded data removed]",
            "text/plain": [
              "<Figure size 720x360 with 1 Axes>"
            ]
          },
          "metadata": {
            "tags": [],
            "needs_background": "light"
          }
        }
      ]
    },
    {
      "cell_type": "code",
      "metadata": {
        "id": "KFOzCTtsb2_J",
        "colab": {
          "base_uri": "https://localhost:8080/"
        },
        "outputId": "19dd1e98-f702-4e6e-baa0-4c3e4008c967"
      },
      "source": [
        "regressor = MyLinearRegression()\n",
        "regressor.fit(X_train , y_train)\n",
        "w = regressor.get_weights()\n",
        "\n",
        "print(w)"
      ],
      "execution_count": null,
      "outputs": [
        {
          "output_type": "stream",
          "text": [
            "[ 20.47025948 170.38268049]\n"
          ],
          "name": "stdout"
        }
      ]
    },
    {
      "cell_type": "code",
      "metadata": {
        "id": "P0xHrvsqfZBn",
        "colab": {
          "base_uri": "https://localhost:8080/"
        },
        "outputId": "4dffdae7-2e80-4fdc-e583-0788e9a8bc29"
      },
      "source": [
        "print('Train RMSE: ',mean_squared_error(y_train, regressor.predict(X_train) , squared = False))\n",
        "print('Test RMSE: ', np.sqrt(mean_squared_error(y_test, regressor.predict(X_test))))"
      ],
      "execution_count": null,
      "outputs": [
        {
          "output_type": "stream",
          "text": [
            "Train RMSE:  33.27268000357609\n",
            "Test RMSE:  478.5415895325107\n"
          ],
          "name": "stdout"
        }
      ]
    },
    {
      "cell_type": "code",
      "metadata": {
        "id": "VMgwBGTgb2WF",
        "colab": {
          "base_uri": "https://localhost:8080/",
          "height": 320
        },
        "outputId": "297c8af2-d35a-45e0-ce82-649f1cb5f91f"
      },
      "source": [
        "plt.figure(figsize=(10, 5))\n",
        "plt.plot(X, y, label='real')\n",
        "plt.scatter(X_train, y_train, label='train')\n",
        "plt.scatter(X_test, y_test, label='test')\n",
        "plt.plot(X, regressor.predict(X.reshape(-1, 1)), label='predicted')\n",
        "plt.legend()\n",
        "plt.show()"
      ],
      "execution_count": null,
      "outputs": [
        {
          "output_type": "display_data",
          "data": {
            "image/png": "[encoded data removed]",
            "text/plain": [
              "<Figure size 720x360 with 1 Axes>"
            ]
          },
          "metadata": {
            "tags": [],
            "needs_background": "light"
          }
        }
      ]
    },
    {
      "cell_type": "code",
      "metadata": {
        "id": "NUgZD2rbb1mB",
        "colab": {
          "base_uri": "https://localhost:8080/"
        },
        "outputId": "e40de9b1-cea0-49ae-9e6d-8f4beb385b31"
      },
      "source": [
        "X = np.vstack([X, X**2])\n"
      ],
      "execution_count": null,
      "outputs": [
        {
          "output_type": "execute_result",
          "data": {
            "text/plain": [
              "(2, 100)"
            ]
          },
          "metadata": {
            "tags": []
          },
          "execution_count": 12
        }
      ]
    },
    {
      "cell_type": "code",
      "metadata": {
        "id": "IzaYKg2Bb1g3",
        "colab": {
          "base_uri": "https://localhost:8080/"
        },
        "outputId": "e8e7d7ed-7834-4fbd-ba22-843a5f7cb8b2"
      },
      "source": [
        "X.T.shape"
      ],
      "execution_count": null,
      "outputs": [
        {
          "output_type": "execute_result",
          "data": {
            "text/plain": [
              "(100, 2)"
            ]
          },
          "metadata": {
            "tags": []
          },
          "execution_count": 13
        }
      ]
    },
    {
      "cell_type": "code",
      "metadata": {
        "id": "bJx7ragIfv6Z"
      },
      "source": [
        "X_train = X[: , :50]\n",
        "y_train = y[:50] + np.random.randn(50) * 10\n",
        "\n",
        "X_test = X[: , 50:]\n",
        "y_test = y[50:] + np.random.randn(50) * 10\n"
      ],
      "execution_count": null,
      "outputs": []
    },
    {
      "cell_type": "code",
      "metadata": {
        "id": "XKlR1YhhgQb7",
        "colab": {
          "base_uri": "https://localhost:8080/"
        },
        "outputId": "ae54ed19-7a6c-41f3-86f5-87f0c2a12f10"
      },
      "source": [
        "X_train.shape"
      ],
      "execution_count": null,
      "outputs": [
        {
          "output_type": "execute_result",
          "data": {
            "text/plain": [
              "(2, 50)"
            ]
          },
          "metadata": {
            "tags": []
          },
          "execution_count": 19
        }
      ]
    },
    {
      "cell_type": "code",
      "metadata": {
        "id": "8qUGuzdpexRk"
      },
      "source": [
        "regressor = MyLinearRegression()\n",
        "regressor.fit(X_train.T , y_train)\n",
        "w = regressor.get_weights()"
      ],
      "execution_count": null,
      "outputs": []
    },
    {
      "cell_type": "code",
      "metadata": {
        "id": "TECBqX84exts",
        "colab": {
          "base_uri": "https://localhost:8080/"
        },
        "outputId": "b71ba25c-93b2-4486-9a65-fe6a91328218"
      },
      "source": [
        "w"
      ],
      "execution_count": null,
      "outputs": [
        {
          "output_type": "execute_result",
          "data": {
            "text/plain": [
              "array([-2.51543944, -1.11462122, 90.87892628])"
            ]
          },
          "metadata": {
            "tags": []
          },
          "execution_count": 18
        }
      ]
    },
    {
      "cell_type": "code",
      "metadata": {
        "id": "AHwz57YdexMv",
        "colab": {
          "base_uri": "https://localhost:8080/",
          "height": 320
        },
        "outputId": "2837a4bf-b320-4e7e-de05-432a5ffdce7a"
      },
      "source": [
        "plt.figure(figsize=(10, 5))\n",
        "plt.plot(X[0], y, label='real')\n",
        "plt.scatter(X_train[0], y_train, label='train')\n",
        "plt.scatter(X_test[0], y_test, label='test')\n",
        "plt.plot(X[0], regressor.predict(X.T), label='predicted')\n",
        "plt.legend()\n",
        "plt.show()"
      ],
      "execution_count": null,
      "outputs": [
        {
          "output_type": "display_data",
          "data": {
            "image/png": "[encoded data removed]",
            "text/plain": [
              "<Figure size 720x360 with 1 Axes>"
            ]
          },
          "metadata": {
            "tags": [],
            "needs_background": "light"
          }
        }
      ]
    },
    {
      "cell_type": "code",
      "metadata": {
        "id": "YXHXTxecgxsZ",
        "colab": {
          "base_uri": "https://localhost:8080/"
        },
        "outputId": "843742c2-27f1-4624-a07a-0dcbfe33940e"
      },
      "source": [
        "print('Train RMSE: ',mean_squared_error(y_train, regressor.predict(X_train.T) , squared = False))\n",
        "print('Test RMSE: ', np.sqrt(mean_squared_error(y_test, regressor.predict(X_test.T))))"
      ],
      "execution_count": null,
      "outputs": [
        {
          "output_type": "stream",
          "text": [
            "Train RMSE:  10.944927159355501\n",
            "Test RMSE:  58.45950827142956\n"
          ],
          "name": "stdout"
        }
      ]
    },
    {
      "cell_type": "markdown",
      "metadata": {
        "id": "XUd42NH0LxHA"
      },
      "source": [
        "### Ridge&Lasso\n",
        "\n",
        "На практике точные формулы для подсчета коэффициентов линейной регрессии не используются, а используется метод градиентного спуска который состоит в подсчете производных от ошибки и шагу в направлении наискорейшего убывания функции (напомню, что мы стремимся минимизировать функцию потерь). Эти методы работают быстрее, чем точное вычисление обратных матриц и их перемножение.\n",
        "Более того, во многих задачах это единственный способ обучить модель, так как не всегда (на самом деле почти никогда) удается выписать точную формулу для минимума сложного функционала ошибки.\n",
        "\n",
        "Давайте рассмотрим реализации линейных регрессоров в библиотеке sklearn"
      ]
    },
    {
      "cell_type": "code",
      "metadata": {
        "id": "n5EUo4GiLxHC"
      },
      "source": [
        "from sklearn.linear_model import LinearRegression, Ridge, Lasso"
      ],
      "execution_count": null,
      "outputs": []
    },
    {
      "cell_type": "code",
      "metadata": {
        "id": "3jI0WW7VLxHG",
        "colab": {
          "base_uri": "https://localhost:8080/",
          "height": 35
        },
        "outputId": "108659f4-db2f-4d59-d69d-2cf01c1f9c64"
      },
      "source": [
        "import sklearn\n",
        "sklearn.__version__\n",
        "\n",
        "# conda install sklearn=0.20.3"
      ],
      "execution_count": null,
      "outputs": [
        {
          "output_type": "execute_result",
          "data": {
            "application/vnd.google.colaboratory.intrinsic+json": {
              "type": "string"
            },
            "text/plain": [
              "'0.22.2.post1'"
            ]
          },
          "metadata": {
            "tags": []
          },
          "execution_count": 103
        }
      ]
    },
    {
      "cell_type": "markdown",
      "metadata": {
        "id": "HXKYn28-LxHL"
      },
      "source": [
        "Будем работать с датасетом wine"
      ]
    },
    {
      "cell_type": "code",
      "metadata": {
        "id": "zowLtNnmLxHN"
      },
      "source": [
        "from sklearn.datasets import load_wine"
      ],
      "execution_count": null,
      "outputs": []
    },
    {
      "cell_type": "code",
      "metadata": {
        "id": "ttQiHvZDLxHS"
      },
      "source": [
        "wine_data = load_wine()"
      ],
      "execution_count": null,
      "outputs": []
    },
    {
      "cell_type": "code",
      "metadata": {
        "id": "qPbCnvWzLxHW"
      },
      "source": [
        "X = pd.DataFrame(wine_data['data'], columns=wine_data['feature_names'])\n",
        "y = wine_data['target']"
      ],
      "execution_count": null,
      "outputs": []
    },
    {
      "cell_type": "code",
      "metadata": {
        "id": "UbbzgTHwLxHc",
        "colab": {
          "base_uri": "https://localhost:8080/",
          "height": 204
        },
        "outputId": "8cc09a7e-4a06-4794-cd01-c09b594a4318"
      },
      "source": [
        "X.head()"
      ],
      "execution_count": null,
      "outputs": [
        {
          "output_type": "execute_result",
          "data": {
            "text/html": [
              "<div>\n",
              "<style scoped>\n",
              "    .dataframe tbody tr th:only-of-type {\n",
              "        vertical-align: middle;\n",
              "    }\n",
              "\n",
              "    .dataframe tbody tr th {\n",
              "        vertical-align: top;\n",
              "    }\n",
              "\n",
              "    .dataframe thead th {\n",
              "        text-align: right;\n",
              "    }\n",
              "</style>\n",
              "<table border=\"1\" class=\"dataframe\">\n",
              "  <thead>\n",
              "    <tr style=\"text-align: right;\">\n",
              "      <th></th>\n",
              "      <th>alcohol</th>\n",
              "      <th>malic_acid</th>\n",
              "      <th>ash</th>\n",
              "      <th>alcalinity_of_ash</th>\n",
              "      <th>magnesium</th>\n",
              "      <th>total_phenols</th>\n",
              "      <th>flavanoids</th>\n",
              "      <th>nonflavanoid_phenols</th>\n",
              "      <th>proanthocyanins</th>\n",
              "      <th>color_intensity</th>\n",
              "      <th>hue</th>\n",
              "      <th>od280/od315_of_diluted_wines</th>\n",
              "      <th>proline</th>\n",
              "    </tr>\n",
              "  </thead>\n",
              "  <tbody>\n",
              "    <tr>\n",
              "      <th>0</th>\n",
              "      <td>14.23</td>\n",
              "      <td>1.71</td>\n",
              "      <td>2.43</td>\n",
              "      <td>15.6</td>\n",
              "      <td>127.0</td>\n",
              "      <td>2.80</td>\n",
              "      <td>3.06</td>\n",
              "      <td>0.28</td>\n",
              "      <td>2.29</td>\n",
              "      <td>5.64</td>\n",
              "      <td>1.04</td>\n",
              "      <td>3.92</td>\n",
              "      <td>1065.0</td>\n",
              "    </tr>\n",
              "    <tr>\n",
              "      <th>1</th>\n",
              "      <td>13.20</td>\n",
              "      <td>1.78</td>\n",
              "      <td>2.14</td>\n",
              "      <td>11.2</td>\n",
              "      <td>100.0</td>\n",
              "      <td>2.65</td>\n",
              "      <td>2.76</td>\n",
              "      <td>0.26</td>\n",
              "      <td>1.28</td>\n",
              "      <td>4.38</td>\n",
              "      <td>1.05</td>\n",
              "      <td>3.40</td>\n",
              "      <td>1050.0</td>\n",
              "    </tr>\n",
              "    <tr>\n",
              "      <th>2</th>\n",
              "      <td>13.16</td>\n",
              "      <td>2.36</td>\n",
              "      <td>2.67</td>\n",
              "      <td>18.6</td>\n",
              "      <td>101.0</td>\n",
              "      <td>2.80</td>\n",
              "      <td>3.24</td>\n",
              "      <td>0.30</td>\n",
              "      <td>2.81</td>\n",
              "      <td>5.68</td>\n",
              "      <td>1.03</td>\n",
              "      <td>3.17</td>\n",
              "      <td>1185.0</td>\n",
              "    </tr>\n",
              "    <tr>\n",
              "      <th>3</th>\n",
              "      <td>14.37</td>\n",
              "      <td>1.95</td>\n",
              "      <td>2.50</td>\n",
              "      <td>16.8</td>\n",
              "      <td>113.0</td>\n",
              "      <td>3.85</td>\n",
              "      <td>3.49</td>\n",
              "      <td>0.24</td>\n",
              "      <td>2.18</td>\n",
              "      <td>7.80</td>\n",
              "      <td>0.86</td>\n",
              "      <td>3.45</td>\n",
              "      <td>1480.0</td>\n",
              "    </tr>\n",
              "    <tr>\n",
              "      <th>4</th>\n",
              "      <td>13.24</td>\n",
              "      <td>2.59</td>\n",
              "      <td>2.87</td>\n",
              "      <td>21.0</td>\n",
              "      <td>118.0</td>\n",
              "      <td>2.80</td>\n",
              "      <td>2.69</td>\n",
              "      <td>0.39</td>\n",
              "      <td>1.82</td>\n",
              "      <td>4.32</td>\n",
              "      <td>1.04</td>\n",
              "      <td>2.93</td>\n",
              "      <td>735.0</td>\n",
              "    </tr>\n",
              "  </tbody>\n",
              "</table>\n",
              "</div>"
            ],
            "text/plain": [
              "   alcohol  malic_acid   ash  ...   hue  od280/od315_of_diluted_wines  proline\n",
              "0    14.23        1.71  2.43  ...  1.04                          3.92   1065.0\n",
              "1    13.20        1.78  2.14  ...  1.05                          3.40   1050.0\n",
              "2    13.16        2.36  2.67  ...  1.03                          3.17   1185.0\n",
              "3    14.37        1.95  2.50  ...  0.86                          3.45   1480.0\n",
              "4    13.24        2.59  2.87  ...  1.04                          2.93    735.0\n",
              "\n",
              "[5 rows x 13 columns]"
            ]
          },
          "metadata": {
            "tags": []
          },
          "execution_count": 90
        }
      ]
    },
    {
      "cell_type": "code",
      "metadata": {
        "id": "pKV61m4WLxHg",
        "colab": {
          "base_uri": "https://localhost:8080/"
        },
        "outputId": "68635a0b-43eb-4046-eaf2-1944d8ee9208"
      },
      "source": [
        "y[:10000]"
      ],
      "execution_count": null,
      "outputs": [
        {
          "output_type": "execute_result",
          "data": {
            "text/plain": [
              "array([0, 0, 0, 0, 0, 0, 0, 0, 0, 0, 0, 0, 0, 0, 0, 0, 0, 0, 0, 0, 0, 0,\n",
              "       0, 0, 0, 0, 0, 0, 0, 0, 0, 0, 0, 0, 0, 0, 0, 0, 0, 0, 0, 0, 0, 0,\n",
              "       0, 0, 0, 0, 0, 0, 0, 0, 0, 0, 0, 0, 0, 0, 0, 1, 1, 1, 1, 1, 1, 1,\n",
              "       1, 1, 1, 1, 1, 1, 1, 1, 1, 1, 1, 1, 1, 1, 1, 1, 1, 1, 1, 1, 1, 1,\n",
              "       1, 1, 1, 1, 1, 1, 1, 1, 1, 1, 1, 1, 1, 1, 1, 1, 1, 1, 1, 1, 1, 1,\n",
              "       1, 1, 1, 1, 1, 1, 1, 1, 1, 1, 1, 1, 1, 1, 1, 1, 1, 1, 1, 1, 2, 2,\n",
              "       2, 2, 2, 2, 2, 2, 2, 2, 2, 2, 2, 2, 2, 2, 2, 2, 2, 2, 2, 2, 2, 2,\n",
              "       2, 2, 2, 2, 2, 2, 2, 2, 2, 2, 2, 2, 2, 2, 2, 2, 2, 2, 2, 2, 2, 2,\n",
              "       2, 2])"
            ]
          },
          "metadata": {
            "tags": []
          },
          "execution_count": 91
        }
      ]
    },
    {
      "cell_type": "code",
      "metadata": {
        "id": "tqe6ReG0LxHk",
        "colab": {
          "base_uri": "https://localhost:8080/",
          "height": 607
        },
        "outputId": "8d5dbc62-a993-492e-bc87-fa0912cf0603"
      },
      "source": [
        "# посторойте гистограммы распределения каждого из признаков ( используйте метод hist()  дополнительно укажите парреметр figsize=(10, 10) )\n",
        "_= X.hist(figsize=(10, 10))"
      ],
      "execution_count": null,
      "outputs": [
        {
          "output_type": "display_data",
          "data": {
            "image/png": "[encoded data removed]",
            "text/plain": [
              "<Figure size 720x720 with 16 Axes>"
            ]
          },
          "metadata": {
            "tags": [],
            "needs_background": "light"
          }
        }
      ]
    },
    {
      "cell_type": "code",
      "metadata": {
        "id": "2bswBxuYLxHu",
        "colab": {
          "base_uri": "https://localhost:8080/",
          "height": 740
        },
        "outputId": "6c48cecd-484d-4398-ddec-d8322584d6b6"
      },
      "source": [
        "import seaborn as sns\n",
        "\n",
        "# постройте матрицу корреляции признаков \n",
        "_ = plt.subplots(figsize=(10, 10))  # эта строчка нужна для коректного отображения расмеров попробуйте ее убрать и увидите что с ней было лучше\n",
        "_= sns.heatmap( X.corr() , annot = True )"
      ],
      "execution_count": null,
      "outputs": [
        {
          "output_type": "display_data",
          "data": {
            "image/png": "[encoded data removed]",
            "text/plain": [
              "<Figure size 720x720 with 2 Axes>"
            ]
          },
          "metadata": {
            "tags": [],
            "needs_background": "light"
          }
        }
      ]
    },
    {
      "cell_type": "code",
      "metadata": {
        "id": "X4sDvNLeLxH3",
        "colab": {
          "base_uri": "https://localhost:8080/",
          "height": 142
        },
        "outputId": "baa769bb-0939-45f8-8854-669136a6f06e"
      },
      "source": [
        " #  выведете подматрицу корреляции для признаков ['alcohol', 'ash', 'hue']   (вам поможет метод loc) \n",
        "X.corr().loc[['alcohol', 'ash', 'hue'] , ['alcohol', 'ash', 'hue']   ]"
      ],
      "execution_count": null,
      "outputs": [
        {
          "output_type": "execute_result",
          "data": {
            "text/html": [
              "<div>\n",
              "<style scoped>\n",
              "    .dataframe tbody tr th:only-of-type {\n",
              "        vertical-align: middle;\n",
              "    }\n",
              "\n",
              "    .dataframe tbody tr th {\n",
              "        vertical-align: top;\n",
              "    }\n",
              "\n",
              "    .dataframe thead th {\n",
              "        text-align: right;\n",
              "    }\n",
              "</style>\n",
              "<table border=\"1\" class=\"dataframe\">\n",
              "  <thead>\n",
              "    <tr style=\"text-align: right;\">\n",
              "      <th></th>\n",
              "      <th>alcohol</th>\n",
              "      <th>ash</th>\n",
              "      <th>hue</th>\n",
              "    </tr>\n",
              "  </thead>\n",
              "  <tbody>\n",
              "    <tr>\n",
              "      <th>alcohol</th>\n",
              "      <td>1.000000</td>\n",
              "      <td>0.211545</td>\n",
              "      <td>-0.071747</td>\n",
              "    </tr>\n",
              "    <tr>\n",
              "      <th>ash</th>\n",
              "      <td>0.211545</td>\n",
              "      <td>1.000000</td>\n",
              "      <td>-0.074667</td>\n",
              "    </tr>\n",
              "    <tr>\n",
              "      <th>hue</th>\n",
              "      <td>-0.071747</td>\n",
              "      <td>-0.074667</td>\n",
              "      <td>1.000000</td>\n",
              "    </tr>\n",
              "  </tbody>\n",
              "</table>\n",
              "</div>"
            ],
            "text/plain": [
              "          alcohol       ash       hue\n",
              "alcohol  1.000000  0.211545 -0.071747\n",
              "ash      0.211545  1.000000 -0.074667\n",
              "hue     -0.071747 -0.074667  1.000000"
            ]
          },
          "metadata": {
            "tags": []
          },
          "execution_count": 94
        }
      ]
    },
    {
      "cell_type": "markdown",
      "metadata": {
        "id": "2Xs5fiCULxH8"
      },
      "source": [
        "#### Задание 4\n",
        "\n",
        "Разбейте выборку на train и test в соотношении 70/30."
      ]
    },
    {
      "cell_type": "code",
      "metadata": {
        "id": "IC1BulxKLxH-",
        "colab": {
          "base_uri": "https://localhost:8080/",
          "height": 204
        },
        "outputId": "e147e144-7e47-422c-ae58-2f908e9b101b"
      },
      "source": [
        "from sklearn.model_selection import train_test_split\n",
        "\n",
        "# ВАШ КОД ЗДЕСЬ:\n",
        "\n",
        "X_train, X_test, y_train, y_test = train_test_split (X, y, test_size=0.30 )\n",
        "X_train.head()"
      ],
      "execution_count": null,
      "outputs": [
        {
          "output_type": "execute_result",
          "data": {
            "text/html": [
              "<div>\n",
              "<style scoped>\n",
              "    .dataframe tbody tr th:only-of-type {\n",
              "        vertical-align: middle;\n",
              "    }\n",
              "\n",
              "    .dataframe tbody tr th {\n",
              "        vertical-align: top;\n",
              "    }\n",
              "\n",
              "    .dataframe thead th {\n",
              "        text-align: right;\n",
              "    }\n",
              "</style>\n",
              "<table border=\"1\" class=\"dataframe\">\n",
              "  <thead>\n",
              "    <tr style=\"text-align: right;\">\n",
              "      <th></th>\n",
              "      <th>alcohol</th>\n",
              "      <th>malic_acid</th>\n",
              "      <th>ash</th>\n",
              "      <th>alcalinity_of_ash</th>\n",
              "      <th>magnesium</th>\n",
              "      <th>total_phenols</th>\n",
              "      <th>flavanoids</th>\n",
              "      <th>nonflavanoid_phenols</th>\n",
              "      <th>proanthocyanins</th>\n",
              "      <th>color_intensity</th>\n",
              "      <th>hue</th>\n",
              "      <th>od280/od315_of_diluted_wines</th>\n",
              "      <th>proline</th>\n",
              "    </tr>\n",
              "  </thead>\n",
              "  <tbody>\n",
              "    <tr>\n",
              "      <th>163</th>\n",
              "      <td>12.96</td>\n",
              "      <td>3.45</td>\n",
              "      <td>2.35</td>\n",
              "      <td>18.5</td>\n",
              "      <td>106.0</td>\n",
              "      <td>1.39</td>\n",
              "      <td>0.70</td>\n",
              "      <td>0.40</td>\n",
              "      <td>0.94</td>\n",
              "      <td>5.28</td>\n",
              "      <td>0.68</td>\n",
              "      <td>1.75</td>\n",
              "      <td>675.0</td>\n",
              "    </tr>\n",
              "    <tr>\n",
              "      <th>53</th>\n",
              "      <td>13.77</td>\n",
              "      <td>1.90</td>\n",
              "      <td>2.68</td>\n",
              "      <td>17.1</td>\n",
              "      <td>115.0</td>\n",
              "      <td>3.00</td>\n",
              "      <td>2.79</td>\n",
              "      <td>0.39</td>\n",
              "      <td>1.68</td>\n",
              "      <td>6.30</td>\n",
              "      <td>1.13</td>\n",
              "      <td>2.93</td>\n",
              "      <td>1375.0</td>\n",
              "    </tr>\n",
              "    <tr>\n",
              "      <th>151</th>\n",
              "      <td>12.79</td>\n",
              "      <td>2.67</td>\n",
              "      <td>2.48</td>\n",
              "      <td>22.0</td>\n",
              "      <td>112.0</td>\n",
              "      <td>1.48</td>\n",
              "      <td>1.36</td>\n",
              "      <td>0.24</td>\n",
              "      <td>1.26</td>\n",
              "      <td>10.80</td>\n",
              "      <td>0.48</td>\n",
              "      <td>1.47</td>\n",
              "      <td>480.0</td>\n",
              "    </tr>\n",
              "    <tr>\n",
              "      <th>79</th>\n",
              "      <td>12.70</td>\n",
              "      <td>3.87</td>\n",
              "      <td>2.40</td>\n",
              "      <td>23.0</td>\n",
              "      <td>101.0</td>\n",
              "      <td>2.83</td>\n",
              "      <td>2.55</td>\n",
              "      <td>0.43</td>\n",
              "      <td>1.95</td>\n",
              "      <td>2.57</td>\n",
              "      <td>1.19</td>\n",
              "      <td>3.13</td>\n",
              "      <td>463.0</td>\n",
              "    </tr>\n",
              "    <tr>\n",
              "      <th>84</th>\n",
              "      <td>11.84</td>\n",
              "      <td>0.89</td>\n",
              "      <td>2.58</td>\n",
              "      <td>18.0</td>\n",
              "      <td>94.0</td>\n",
              "      <td>2.20</td>\n",
              "      <td>2.21</td>\n",
              "      <td>0.22</td>\n",
              "      <td>2.35</td>\n",
              "      <td>3.05</td>\n",
              "      <td>0.79</td>\n",
              "      <td>3.08</td>\n",
              "      <td>520.0</td>\n",
              "    </tr>\n",
              "  </tbody>\n",
              "</table>\n",
              "</div>"
            ],
            "text/plain": [
              "     alcohol  malic_acid   ash  ...   hue  od280/od315_of_diluted_wines  proline\n",
              "163    12.96        3.45  2.35  ...  0.68                          1.75    675.0\n",
              "53     13.77        1.90  2.68  ...  1.13                          2.93   1375.0\n",
              "151    12.79        2.67  2.48  ...  0.48                          1.47    480.0\n",
              "79     12.70        3.87  2.40  ...  1.19                          3.13    463.0\n",
              "84     11.84        0.89  2.58  ...  0.79                          3.08    520.0\n",
              "\n",
              "[5 rows x 13 columns]"
            ]
          },
          "metadata": {
            "tags": []
          },
          "execution_count": 95
        }
      ]
    },
    {
      "cell_type": "code",
      "metadata": {
        "id": "jnrugIdQLxID"
      },
      "source": [
        ""
      ],
      "execution_count": null,
      "outputs": []
    },
    {
      "cell_type": "markdown",
      "metadata": {
        "id": "FMYG-No9LxIH"
      },
      "source": [
        "Выполним нормировку данных"
      ]
    },
    {
      "cell_type": "code",
      "metadata": {
        "id": "3J_r9hkgIlzK",
        "colab": {
          "base_uri": "https://localhost:8080/"
        },
        "outputId": "429a8acf-2af6-4745-a5f4-4f65127e4dbc"
      },
      "source": [
        "X_train.std()"
      ],
      "execution_count": null,
      "outputs": [
        {
          "output_type": "execute_result",
          "data": {
            "text/plain": [
              "alcohol                           0.798773\n",
              "malic_acid                        1.101859\n",
              "ash                               0.283413\n",
              "alcalinity_of_ash                 3.380364\n",
              "magnesium                        13.439650\n",
              "total_phenols                     0.622537\n",
              "flavanoids                        1.017245\n",
              "nonflavanoid_phenols              0.122522\n",
              "proanthocyanins                   0.567437\n",
              "color_intensity                   2.389091\n",
              "hue                               0.230850\n",
              "od280/od315_of_diluted_wines      0.723307\n",
              "proline                         309.630874\n",
              "dtype: float64"
            ]
          },
          "metadata": {
            "tags": []
          },
          "execution_count": 96
        }
      ]
    },
    {
      "cell_type": "code",
      "metadata": {
        "id": "w1h5HgyVIscS",
        "colab": {
          "base_uri": "https://localhost:8080/"
        },
        "outputId": "531a0f64-805c-4444-8ded-b0fc678cbbcb"
      },
      "source": [
        "X_train.mean()"
      ],
      "execution_count": null,
      "outputs": [
        {
          "output_type": "execute_result",
          "data": {
            "text/plain": [
              "alcohol                          12.978065\n",
              "malic_acid                        2.427177\n",
              "ash                               2.381452\n",
              "alcalinity_of_ash                19.692742\n",
              "magnesium                       100.161290\n",
              "total_phenols                     2.283790\n",
              "flavanoids                        1.997097\n",
              "nonflavanoid_phenols              0.356935\n",
              "proanthocyanins                   1.572903\n",
              "color_intensity                   5.042339\n",
              "hue                               0.945855\n",
              "od280/od315_of_diluted_wines      2.620645\n",
              "proline                         729.879032\n",
              "dtype: float64"
            ]
          },
          "metadata": {
            "tags": []
          },
          "execution_count": 97
        }
      ]
    },
    {
      "cell_type": "code",
      "metadata": {
        "id": "BcyGAqvSLxIJ"
      },
      "source": [
        "from sklearn.preprocessing import StandardScaler\n",
        "\n",
        "scaler = StandardScaler()\n",
        "\n",
        "# Подобрать \"веса\" объекта scaler\n",
        "scaler.fit(X_train)\n",
        "\n",
        "X_train = scaler.transform(X_train)\n",
        "X_test = scaler.transform(X_test)"
      ],
      "execution_count": null,
      "outputs": []
    },
    {
      "cell_type": "code",
      "metadata": {
        "id": "U6I8ucmCI15F",
        "colab": {
          "base_uri": "https://localhost:8080/"
        },
        "outputId": "bc57d8d4-a041-486f-8dce-e6c14028727f"
      },
      "source": [
        "X_train.std()"
      ],
      "execution_count": null,
      "outputs": [
        {
          "output_type": "execute_result",
          "data": {
            "text/plain": [
              "1.0"
            ]
          },
          "metadata": {
            "tags": []
          },
          "execution_count": 99
        }
      ]
    },
    {
      "cell_type": "code",
      "metadata": {
        "id": "jzTPYs3MI7AT",
        "colab": {
          "base_uri": "https://localhost:8080/"
        },
        "outputId": "6255114f-81e1-4a76-bda0-3b313b8b1311"
      },
      "source": [
        "X_train.mean()"
      ],
      "execution_count": null,
      "outputs": [
        {
          "output_type": "execute_result",
          "data": {
            "text/plain": [
              "3.063444177129464e-16"
            ]
          },
          "metadata": {
            "tags": []
          },
          "execution_count": 100
        }
      ]
    },
    {
      "cell_type": "markdown",
      "metadata": {
        "id": "BA0-si5yLxIQ"
      },
      "source": [
        "#### Задание 5\n",
        "\n",
        "Обучите линейную регрессию и подсчитайте качество на тесте"
      ]
    },
    {
      "cell_type": "code",
      "metadata": {
        "id": "ZDGsI3VOLxIR",
        "colab": {
          "base_uri": "https://localhost:8080/"
        },
        "outputId": "9dcbb7cb-6c6c-4fa5-8116-5b69a02817a4"
      },
      "source": [
        "regressor = LinearRegression()\n",
        "\n",
        "# ВАШ КОД ЗДЕСЬ\n",
        "\n",
        "\n",
        "regressor.fit(X_train, y_train)\n",
        "\n",
        "predictions = regressor.predict(X_test)\n",
        "\n",
        "print('Train RMSE: ', np.sqrt(mean_squared_error(y_train, regressor.predict(X_train))))\n",
        "print('Test RMSE: ', np.sqrt(mean_squared_error(y_test, regressor.predict(X_test))))\n",
        "\n",
        "print('test mse: ', mean_squared_error(y_test, predictions))"
      ],
      "execution_count": null,
      "outputs": [
        {
          "output_type": "stream",
          "text": [
            "Train RMSE:  0.24382184091409848\n",
            "Test RMSE:  0.2632423688798449\n",
            "test mse:  0.06929654477347234\n"
          ],
          "name": "stdout"
        }
      ]
    },
    {
      "cell_type": "markdown",
      "metadata": {
        "id": "C5MC59oULxIV"
      },
      "source": [
        "Визуализируем получившиеся веса"
      ]
    },
    {
      "cell_type": "code",
      "metadata": {
        "id": "xaQ23HvtLxIW",
        "colab": {
          "base_uri": "https://localhost:8080/",
          "height": 500
        },
        "outputId": "3864f524-e3fa-4458-cf8c-96a7d053d4c1"
      },
      "source": [
        "plt.figure(figsize=(20, 8))\n",
        "plt.bar(X.columns, regressor.coef_)"
      ],
      "execution_count": null,
      "outputs": [
        {
          "output_type": "execute_result",
          "data": {
            "text/plain": [
              "<BarContainer object of 13 artists>"
            ]
          },
          "metadata": {
            "tags": []
          },
          "execution_count": 105
        },
        {
          "output_type": "display_data",
          "data": {
            "image/png": "[encoded data removed]",
            "text/plain": [
              "<Figure size 1440x576 with 1 Axes>"
            ]
          },
          "metadata": {
            "tags": [],
            "needs_background": "light"
          }
        }
      ]
    },
    {
      "cell_type": "markdown",
      "metadata": {
        "id": "o9LhPGRxLxIZ"
      },
      "source": [
        "Теперь обратимся к методам с регуляризацией.\n",
        "\n",
        "Ridge (L2-регуляризация) сильно штрафует за слишком большие веса и не очень за малые. При увеличении коэффициента перед регуляризатором веса меняются плавно"
      ]
    },
    {
      "cell_type": "code",
      "metadata": {
        "id": "xMa9qcMGLxIa",
        "colab": {
          "base_uri": "https://localhost:8080/",
          "height": 265
        },
        "outputId": "526726e6-5d3e-46da-93c5-fb586608dbe4"
      },
      "source": [
        "alphas = np.linspace(1, 1000, 100)\n",
        "\n",
        "weights = np.empty((len(X.columns), 0))\n",
        "for alpha in alphas:\n",
        "    ridge_regressor = Ridge(alpha)\n",
        "    ridge_regressor.fit(X_train, y_train)\n",
        "    weights = np.hstack((weights, ridge_regressor.coef_.reshape(-1, 1)))\n",
        "plt.plot(alphas, weights.T)\n",
        "plt.show()"
      ],
      "execution_count": null,
      "outputs": [
        {
          "output_type": "display_data",
          "data": {
            "image/png": "[encoded data removed]",
            "text/plain": [
              "<Figure size 432x288 with 1 Axes>"
            ]
          },
          "metadata": {
            "tags": [],
            "needs_background": "light"
          }
        }
      ]
    },
    {
      "cell_type": "markdown",
      "metadata": {
        "id": "VzIgKA_JLxIf"
      },
      "source": [
        "Lasso одинаково сильно штрафует малые и большие веса, поэтому при достаточно большом коэффициенте регуляризации многие признаки становятся равными нулю, при этом остаются только наиболее инфромативные. Этот факт можно использовать для решения задачи отбора признаков."
      ]
    },
    {
      "cell_type": "code",
      "metadata": {
        "id": "ZaQwJaoALxIg",
        "colab": {
          "base_uri": "https://localhost:8080/",
          "height": 490
        },
        "outputId": "f7837579-6030-4736-978e-7f4ee4fba798"
      },
      "source": [
        "alphas = np.linspace(0.1, 1, 10)\n",
        "\n",
        "plt.figure(figsize=(10, 5))\n",
        "weights = np.empty((len(X.columns), 0))\n",
        "for alpha in alphas:\n",
        "    lasso_regressor = Lasso(alpha)\n",
        "    lasso_regressor.fit(X_train, y_train)\n",
        "    weights = np.hstack((weights, lasso_regressor.coef_.reshape(-1, 1)))\n",
        "    print([name for (name, coef) in zip(X.columns, lasso_regressor.coef_) if np.abs(coef) > 1e-4])\n",
        "plt.plot(alphas, weights.T)\n",
        "plt.grid()\n",
        "plt.show()"
      ],
      "execution_count": null,
      "outputs": [
        {
          "output_type": "stream",
          "text": [
            "['alcalinity_of_ash', 'flavanoids', 'hue', 'od280/od315_of_diluted_wines', 'proline']\n",
            "['flavanoids', 'hue', 'od280/od315_of_diluted_wines', 'proline']\n",
            "['flavanoids', 'proline']\n",
            "['flavanoids']\n",
            "['flavanoids']\n",
            "['flavanoids']\n",
            "[]\n",
            "[]\n",
            "[]\n",
            "[]\n"
          ],
          "name": "stdout"
        },
        {
          "output_type": "display_data",
          "data": {
            "image/png": "[encoded data removed]",
            "text/plain": [
              "<Figure size 720x360 with 1 Axes>"
            ]
          },
          "metadata": {
            "tags": [],
            "needs_background": "light"
          }
        }
      ]
    },
    {
      "cell_type": "markdown",
      "metadata": {
        "id": "kbtSkF1rLxIj"
      },
      "source": [
        "#### Задание 6\n",
        "\n",
        "Обучите модели Ridge и Lasso и подсчитайте ошибку на тесте. Постарайтесь подобрать лучшие параметры регуляризации"
      ]
    },
    {
      "cell_type": "code",
      "metadata": {
        "id": "9VeAQ9GZLxIj",
        "colab": {
          "base_uri": "https://localhost:8080/"
        },
        "outputId": "c552a648-62df-4342-bf94-eb35b9128077"
      },
      "source": [
        "\n",
        "# можно менять этот параметр:\n",
        "l2_coef = 1000\n",
        "ridge = Ridge(l2_coef)\n",
        "ridge.fit(X_train, y_train)\n",
        "print('mse ridge: ', mean_squared_error(y_test, ridge.predict(X_test)))\n",
        "\n",
        "# и этот:\n",
        "l1_coef = 0.3\n",
        "lasso = Lasso(l1_coef)\n",
        "lasso.fit(X_train, y_train)\n",
        "print('mse lasso: ', mean_squared_error(y_test, lasso.predict(X_test)))"
      ],
      "execution_count": null,
      "outputs": [
        {
          "output_type": "stream",
          "text": [
            "mse ridge:  0.293456910628962\n",
            "mse lasso:  0.23297664214867914\n"
          ],
          "name": "stdout"
        }
      ]
    },
    {
      "cell_type": "code",
      "metadata": {
        "id": "XZjYyiZRWFPD",
        "colab": {
          "base_uri": "https://localhost:8080/",
          "height": 505
        },
        "outputId": "3ae0468e-e9b5-42d1-92fa-3340eba0c614"
      },
      "source": [
        "plt.figure(figsize=(20, 8))\n",
        "plt.bar(X.columns, lasso.coef_)"
      ],
      "execution_count": null,
      "outputs": [
        {
          "output_type": "execute_result",
          "data": {
            "text/plain": [
              "<BarContainer object of 13 artists>"
            ]
          },
          "metadata": {
            "tags": []
          },
          "execution_count": 118
        },
        {
          "output_type": "display_data",
          "data": {
            "image/png": "[encoded data removed]",
            "text/plain": [
              "<Figure size 1440x576 with 1 Axes>"
            ]
          },
          "metadata": {
            "tags": [],
            "needs_background": "light"
          }
        }
      ]
    },
    {
      "cell_type": "code",
      "metadata": {
        "id": "rsCMG3wnWFcW",
        "colab": {
          "base_uri": "https://localhost:8080/",
          "height": 500
        },
        "outputId": "babfa98e-b7db-420a-9ea6-59e79ede930a"
      },
      "source": [
        "plt.figure(figsize=(20, 8))\n",
        "plt.bar(X.columns, ridge.coef_)"
      ],
      "execution_count": null,
      "outputs": [
        {
          "output_type": "execute_result",
          "data": {
            "text/plain": [
              "<BarContainer object of 13 artists>"
            ]
          },
          "metadata": {
            "tags": []
          },
          "execution_count": 116
        },
        {
          "output_type": "display_data",
          "data": {
            "image/png": "[encoded data removed]",
            "text/plain": [
              "<Figure size 1440x576 with 1 Axes>"
            ]
          },
          "metadata": {
            "tags": [],
            "needs_background": "light"
          }
        }
      ]
    },
    {
      "cell_type": "code",
      "metadata": {
        "id": "ED5FFV95WFZy"
      },
      "source": [
        ""
      ],
      "execution_count": null,
      "outputs": []
    },
    {
      "cell_type": "code",
      "metadata": {
        "id": "nlCzZ5KOWFWp"
      },
      "source": [
        ""
      ],
      "execution_count": null,
      "outputs": []
    },
    {
      "cell_type": "markdown",
      "metadata": {
        "id": "W1SJxDmPLxIm"
      },
      "source": [
        "#### Линейные методы классификации\n",
        "\n",
        "Рассмотрим работу алгоритмов линейной классификации для задачи breast cancer"
      ]
    },
    {
      "cell_type": "code",
      "metadata": {
        "id": "KR7o_1R2LxIo"
      },
      "source": [
        "from sklearn.datasets import load_breast_cancer"
      ],
      "execution_count": null,
      "outputs": []
    },
    {
      "cell_type": "code",
      "metadata": {
        "id": "YQpc-1GgLxIr"
      },
      "source": [
        "data = load_breast_cancer()"
      ],
      "execution_count": null,
      "outputs": []
    },
    {
      "cell_type": "code",
      "metadata": {
        "id": "RLcQ6Ua9LxIu"
      },
      "source": [
        "X = pd.DataFrame(data['data'], columns=data['feature_names'])\n",
        "y = data['target']"
      ],
      "execution_count": null,
      "outputs": []
    },
    {
      "cell_type": "code",
      "metadata": {
        "id": "MpVT0mP4LxIx",
        "colab": {
          "base_uri": "https://localhost:8080/",
          "height": 244
        },
        "outputId": "88c9a97f-34cd-4fe2-a4cb-9db053109581"
      },
      "source": [
        "X.head()"
      ],
      "execution_count": null,
      "outputs": [
        {
          "output_type": "execute_result",
          "data": {
            "text/html": [
              "<div>\n",
              "<style scoped>\n",
              "    .dataframe tbody tr th:only-of-type {\n",
              "        vertical-align: middle;\n",
              "    }\n",
              "\n",
              "    .dataframe tbody tr th {\n",
              "        vertical-align: top;\n",
              "    }\n",
              "\n",
              "    .dataframe thead th {\n",
              "        text-align: right;\n",
              "    }\n",
              "</style>\n",
              "<table border=\"1\" class=\"dataframe\">\n",
              "  <thead>\n",
              "    <tr style=\"text-align: right;\">\n",
              "      <th></th>\n",
              "      <th>mean radius</th>\n",
              "      <th>mean texture</th>\n",
              "      <th>mean perimeter</th>\n",
              "      <th>mean area</th>\n",
              "      <th>mean smoothness</th>\n",
              "      <th>mean compactness</th>\n",
              "      <th>mean concavity</th>\n",
              "      <th>mean concave points</th>\n",
              "      <th>mean symmetry</th>\n",
              "      <th>mean fractal dimension</th>\n",
              "      <th>radius error</th>\n",
              "      <th>texture error</th>\n",
              "      <th>perimeter error</th>\n",
              "      <th>area error</th>\n",
              "      <th>smoothness error</th>\n",
              "      <th>compactness error</th>\n",
              "      <th>concavity error</th>\n",
              "      <th>concave points error</th>\n",
              "      <th>symmetry error</th>\n",
              "      <th>fractal dimension error</th>\n",
              "      <th>worst radius</th>\n",
              "      <th>worst texture</th>\n",
              "      <th>worst perimeter</th>\n",
              "      <th>worst area</th>\n",
              "      <th>worst smoothness</th>\n",
              "      <th>worst compactness</th>\n",
              "      <th>worst concavity</th>\n",
              "      <th>worst concave points</th>\n",
              "      <th>worst symmetry</th>\n",
              "      <th>worst fractal dimension</th>\n",
              "    </tr>\n",
              "  </thead>\n",
              "  <tbody>\n",
              "    <tr>\n",
              "      <th>0</th>\n",
              "      <td>17.99</td>\n",
              "      <td>10.38</td>\n",
              "      <td>122.80</td>\n",
              "      <td>1001.0</td>\n",
              "      <td>0.11840</td>\n",
              "      <td>0.27760</td>\n",
              "      <td>0.3001</td>\n",
              "      <td>0.14710</td>\n",
              "      <td>0.2419</td>\n",
              "      <td>0.07871</td>\n",
              "      <td>1.0950</td>\n",
              "      <td>0.9053</td>\n",
              "      <td>8.589</td>\n",
              "      <td>153.40</td>\n",
              "      <td>0.006399</td>\n",
              "      <td>0.04904</td>\n",
              "      <td>0.05373</td>\n",
              "      <td>0.01587</td>\n",
              "      <td>0.03003</td>\n",
              "      <td>0.006193</td>\n",
              "      <td>25.38</td>\n",
              "      <td>17.33</td>\n",
              "      <td>184.60</td>\n",
              "      <td>2019.0</td>\n",
              "      <td>0.1622</td>\n",
              "      <td>0.6656</td>\n",
              "      <td>0.7119</td>\n",
              "      <td>0.2654</td>\n",
              "      <td>0.4601</td>\n",
              "      <td>0.11890</td>\n",
              "    </tr>\n",
              "    <tr>\n",
              "      <th>1</th>\n",
              "      <td>20.57</td>\n",
              "      <td>17.77</td>\n",
              "      <td>132.90</td>\n",
              "      <td>1326.0</td>\n",
              "      <td>0.08474</td>\n",
              "      <td>0.07864</td>\n",
              "      <td>0.0869</td>\n",
              "      <td>0.07017</td>\n",
              "      <td>0.1812</td>\n",
              "      <td>0.05667</td>\n",
              "      <td>0.5435</td>\n",
              "      <td>0.7339</td>\n",
              "      <td>3.398</td>\n",
              "      <td>74.08</td>\n",
              "      <td>0.005225</td>\n",
              "      <td>0.01308</td>\n",
              "      <td>0.01860</td>\n",
              "      <td>0.01340</td>\n",
              "      <td>0.01389</td>\n",
              "      <td>0.003532</td>\n",
              "      <td>24.99</td>\n",
              "      <td>23.41</td>\n",
              "      <td>158.80</td>\n",
              "      <td>1956.0</td>\n",
              "      <td>0.1238</td>\n",
              "      <td>0.1866</td>\n",
              "      <td>0.2416</td>\n",
              "      <td>0.1860</td>\n",
              "      <td>0.2750</td>\n",
              "      <td>0.08902</td>\n",
              "    </tr>\n",
              "    <tr>\n",
              "      <th>2</th>\n",
              "      <td>19.69</td>\n",
              "      <td>21.25</td>\n",
              "      <td>130.00</td>\n",
              "      <td>1203.0</td>\n",
              "      <td>0.10960</td>\n",
              "      <td>0.15990</td>\n",
              "      <td>0.1974</td>\n",
              "      <td>0.12790</td>\n",
              "      <td>0.2069</td>\n",
              "      <td>0.05999</td>\n",
              "      <td>0.7456</td>\n",
              "      <td>0.7869</td>\n",
              "      <td>4.585</td>\n",
              "      <td>94.03</td>\n",
              "      <td>0.006150</td>\n",
              "      <td>0.04006</td>\n",
              "      <td>0.03832</td>\n",
              "      <td>0.02058</td>\n",
              "      <td>0.02250</td>\n",
              "      <td>0.004571</td>\n",
              "      <td>23.57</td>\n",
              "      <td>25.53</td>\n",
              "      <td>152.50</td>\n",
              "      <td>1709.0</td>\n",
              "      <td>0.1444</td>\n",
              "      <td>0.4245</td>\n",
              "      <td>0.4504</td>\n",
              "      <td>0.2430</td>\n",
              "      <td>0.3613</td>\n",
              "      <td>0.08758</td>\n",
              "    </tr>\n",
              "    <tr>\n",
              "      <th>3</th>\n",
              "      <td>11.42</td>\n",
              "      <td>20.38</td>\n",
              "      <td>77.58</td>\n",
              "      <td>386.1</td>\n",
              "      <td>0.14250</td>\n",
              "      <td>0.28390</td>\n",
              "      <td>0.2414</td>\n",
              "      <td>0.10520</td>\n",
              "      <td>0.2597</td>\n",
              "      <td>0.09744</td>\n",
              "      <td>0.4956</td>\n",
              "      <td>1.1560</td>\n",
              "      <td>3.445</td>\n",
              "      <td>27.23</td>\n",
              "      <td>0.009110</td>\n",
              "      <td>0.07458</td>\n",
              "      <td>0.05661</td>\n",
              "      <td>0.01867</td>\n",
              "      <td>0.05963</td>\n",
              "      <td>0.009208</td>\n",
              "      <td>14.91</td>\n",
              "      <td>26.50</td>\n",
              "      <td>98.87</td>\n",
              "      <td>567.7</td>\n",
              "      <td>0.2098</td>\n",
              "      <td>0.8663</td>\n",
              "      <td>0.6869</td>\n",
              "      <td>0.2575</td>\n",
              "      <td>0.6638</td>\n",
              "      <td>0.17300</td>\n",
              "    </tr>\n",
              "    <tr>\n",
              "      <th>4</th>\n",
              "      <td>20.29</td>\n",
              "      <td>14.34</td>\n",
              "      <td>135.10</td>\n",
              "      <td>1297.0</td>\n",
              "      <td>0.10030</td>\n",
              "      <td>0.13280</td>\n",
              "      <td>0.1980</td>\n",
              "      <td>0.10430</td>\n",
              "      <td>0.1809</td>\n",
              "      <td>0.05883</td>\n",
              "      <td>0.7572</td>\n",
              "      <td>0.7813</td>\n",
              "      <td>5.438</td>\n",
              "      <td>94.44</td>\n",
              "      <td>0.011490</td>\n",
              "      <td>0.02461</td>\n",
              "      <td>0.05688</td>\n",
              "      <td>0.01885</td>\n",
              "      <td>0.01756</td>\n",
              "      <td>0.005115</td>\n",
              "      <td>22.54</td>\n",
              "      <td>16.67</td>\n",
              "      <td>152.20</td>\n",
              "      <td>1575.0</td>\n",
              "      <td>0.1374</td>\n",
              "      <td>0.2050</td>\n",
              "      <td>0.4000</td>\n",
              "      <td>0.1625</td>\n",
              "      <td>0.2364</td>\n",
              "      <td>0.07678</td>\n",
              "    </tr>\n",
              "  </tbody>\n",
              "</table>\n",
              "</div>"
            ],
            "text/plain": [
              "   mean radius  mean texture  ...  worst symmetry  worst fractal dimension\n",
              "0        17.99         10.38  ...          0.4601                  0.11890\n",
              "1        20.57         17.77  ...          0.2750                  0.08902\n",
              "2        19.69         21.25  ...          0.3613                  0.08758\n",
              "3        11.42         20.38  ...          0.6638                  0.17300\n",
              "4        20.29         14.34  ...          0.2364                  0.07678\n",
              "\n",
              "[5 rows x 30 columns]"
            ]
          },
          "metadata": {
            "tags": []
          },
          "execution_count": 28
        }
      ]
    },
    {
      "cell_type": "code",
      "metadata": {
        "id": "lrGud0rnLxI0",
        "colab": {
          "base_uri": "https://localhost:8080/"
        },
        "outputId": "f26b9e1b-9115-43e1-8c4d-d8d6b4d5f838"
      },
      "source": [
        "np.unique(y, return_counts=True)"
      ],
      "execution_count": null,
      "outputs": [
        {
          "output_type": "execute_result",
          "data": {
            "text/plain": [
              "(array([0, 1]), array([212, 357]))"
            ]
          },
          "metadata": {
            "tags": []
          },
          "execution_count": 29
        }
      ]
    },
    {
      "cell_type": "code",
      "metadata": {
        "id": "uXkuKjCrLxI2",
        "colab": {
          "base_uri": "https://localhost:8080/"
        },
        "outputId": "7bf7fb42-1f7c-4e8a-c081-d622f48a5245"
      },
      "source": [
        "X.info()"
      ],
      "execution_count": null,
      "outputs": [
        {
          "output_type": "stream",
          "text": [
            "<class 'pandas.core.frame.DataFrame'>\n",
            "RangeIndex: 569 entries, 0 to 568\n",
            "Data columns (total 30 columns):\n",
            " #   Column                   Non-Null Count  Dtype  \n",
            "---  ------                   --------------  -----  \n",
            " 0   mean radius              569 non-null    float64\n",
            " 1   mean texture             569 non-null    float64\n",
            " 2   mean perimeter           569 non-null    float64\n",
            " 3   mean area                569 non-null    float64\n",
            " 4   mean smoothness          569 non-null    float64\n",
            " 5   mean compactness         569 non-null    float64\n",
            " 6   mean concavity           569 non-null    float64\n",
            " 7   mean concave points      569 non-null    float64\n",
            " 8   mean symmetry            569 non-null    float64\n",
            " 9   mean fractal dimension   569 non-null    float64\n",
            " 10  radius error             569 non-null    float64\n",
            " 11  texture error            569 non-null    float64\n",
            " 12  perimeter error          569 non-null    float64\n",
            " 13  area error               569 non-null    float64\n",
            " 14  smoothness error         569 non-null    float64\n",
            " 15  compactness error        569 non-null    float64\n",
            " 16  concavity error          569 non-null    float64\n",
            " 17  concave points error     569 non-null    float64\n",
            " 18  symmetry error           569 non-null    float64\n",
            " 19  fractal dimension error  569 non-null    float64\n",
            " 20  worst radius             569 non-null    float64\n",
            " 21  worst texture            569 non-null    float64\n",
            " 22  worst perimeter          569 non-null    float64\n",
            " 23  worst area               569 non-null    float64\n",
            " 24  worst smoothness         569 non-null    float64\n",
            " 25  worst compactness        569 non-null    float64\n",
            " 26  worst concavity          569 non-null    float64\n",
            " 27  worst concave points     569 non-null    float64\n",
            " 28  worst symmetry           569 non-null    float64\n",
            " 29  worst fractal dimension  569 non-null    float64\n",
            "dtypes: float64(30)\n",
            "memory usage: 133.5 KB\n"
          ],
          "name": "stdout"
        }
      ]
    },
    {
      "cell_type": "code",
      "metadata": {
        "id": "Oq1v7VZVLxI5",
        "colab": {
          "base_uri": "https://localhost:8080/",
          "height": 244
        },
        "outputId": "96c983a4-0409-4e83-de10-38e0793d8dde"
      },
      "source": [
        "X.head()"
      ],
      "execution_count": null,
      "outputs": [
        {
          "output_type": "execute_result",
          "data": {
            "text/html": [
              "<div>\n",
              "<style scoped>\n",
              "    .dataframe tbody tr th:only-of-type {\n",
              "        vertical-align: middle;\n",
              "    }\n",
              "\n",
              "    .dataframe tbody tr th {\n",
              "        vertical-align: top;\n",
              "    }\n",
              "\n",
              "    .dataframe thead th {\n",
              "        text-align: right;\n",
              "    }\n",
              "</style>\n",
              "<table border=\"1\" class=\"dataframe\">\n",
              "  <thead>\n",
              "    <tr style=\"text-align: right;\">\n",
              "      <th></th>\n",
              "      <th>mean radius</th>\n",
              "      <th>mean texture</th>\n",
              "      <th>mean perimeter</th>\n",
              "      <th>mean area</th>\n",
              "      <th>mean smoothness</th>\n",
              "      <th>mean compactness</th>\n",
              "      <th>mean concavity</th>\n",
              "      <th>mean concave points</th>\n",
              "      <th>mean symmetry</th>\n",
              "      <th>mean fractal dimension</th>\n",
              "      <th>radius error</th>\n",
              "      <th>texture error</th>\n",
              "      <th>perimeter error</th>\n",
              "      <th>area error</th>\n",
              "      <th>smoothness error</th>\n",
              "      <th>compactness error</th>\n",
              "      <th>concavity error</th>\n",
              "      <th>concave points error</th>\n",
              "      <th>symmetry error</th>\n",
              "      <th>fractal dimension error</th>\n",
              "      <th>worst radius</th>\n",
              "      <th>worst texture</th>\n",
              "      <th>worst perimeter</th>\n",
              "      <th>worst area</th>\n",
              "      <th>worst smoothness</th>\n",
              "      <th>worst compactness</th>\n",
              "      <th>worst concavity</th>\n",
              "      <th>worst concave points</th>\n",
              "      <th>worst symmetry</th>\n",
              "      <th>worst fractal dimension</th>\n",
              "    </tr>\n",
              "  </thead>\n",
              "  <tbody>\n",
              "    <tr>\n",
              "      <th>0</th>\n",
              "      <td>17.99</td>\n",
              "      <td>10.38</td>\n",
              "      <td>122.80</td>\n",
              "      <td>1001.0</td>\n",
              "      <td>0.11840</td>\n",
              "      <td>0.27760</td>\n",
              "      <td>0.3001</td>\n",
              "      <td>0.14710</td>\n",
              "      <td>0.2419</td>\n",
              "      <td>0.07871</td>\n",
              "      <td>1.0950</td>\n",
              "      <td>0.9053</td>\n",
              "      <td>8.589</td>\n",
              "      <td>153.40</td>\n",
              "      <td>0.006399</td>\n",
              "      <td>0.04904</td>\n",
              "      <td>0.05373</td>\n",
              "      <td>0.01587</td>\n",
              "      <td>0.03003</td>\n",
              "      <td>0.006193</td>\n",
              "      <td>25.38</td>\n",
              "      <td>17.33</td>\n",
              "      <td>184.60</td>\n",
              "      <td>2019.0</td>\n",
              "      <td>0.1622</td>\n",
              "      <td>0.6656</td>\n",
              "      <td>0.7119</td>\n",
              "      <td>0.2654</td>\n",
              "      <td>0.4601</td>\n",
              "      <td>0.11890</td>\n",
              "    </tr>\n",
              "    <tr>\n",
              "      <th>1</th>\n",
              "      <td>20.57</td>\n",
              "      <td>17.77</td>\n",
              "      <td>132.90</td>\n",
              "      <td>1326.0</td>\n",
              "      <td>0.08474</td>\n",
              "      <td>0.07864</td>\n",
              "      <td>0.0869</td>\n",
              "      <td>0.07017</td>\n",
              "      <td>0.1812</td>\n",
              "      <td>0.05667</td>\n",
              "      <td>0.5435</td>\n",
              "      <td>0.7339</td>\n",
              "      <td>3.398</td>\n",
              "      <td>74.08</td>\n",
              "      <td>0.005225</td>\n",
              "      <td>0.01308</td>\n",
              "      <td>0.01860</td>\n",
              "      <td>0.01340</td>\n",
              "      <td>0.01389</td>\n",
              "      <td>0.003532</td>\n",
              "      <td>24.99</td>\n",
              "      <td>23.41</td>\n",
              "      <td>158.80</td>\n",
              "      <td>1956.0</td>\n",
              "      <td>0.1238</td>\n",
              "      <td>0.1866</td>\n",
              "      <td>0.2416</td>\n",
              "      <td>0.1860</td>\n",
              "      <td>0.2750</td>\n",
              "      <td>0.08902</td>\n",
              "    </tr>\n",
              "    <tr>\n",
              "      <th>2</th>\n",
              "      <td>19.69</td>\n",
              "      <td>21.25</td>\n",
              "      <td>130.00</td>\n",
              "      <td>1203.0</td>\n",
              "      <td>0.10960</td>\n",
              "      <td>0.15990</td>\n",
              "      <td>0.1974</td>\n",
              "      <td>0.12790</td>\n",
              "      <td>0.2069</td>\n",
              "      <td>0.05999</td>\n",
              "      <td>0.7456</td>\n",
              "      <td>0.7869</td>\n",
              "      <td>4.585</td>\n",
              "      <td>94.03</td>\n",
              "      <td>0.006150</td>\n",
              "      <td>0.04006</td>\n",
              "      <td>0.03832</td>\n",
              "      <td>0.02058</td>\n",
              "      <td>0.02250</td>\n",
              "      <td>0.004571</td>\n",
              "      <td>23.57</td>\n",
              "      <td>25.53</td>\n",
              "      <td>152.50</td>\n",
              "      <td>1709.0</td>\n",
              "      <td>0.1444</td>\n",
              "      <td>0.4245</td>\n",
              "      <td>0.4504</td>\n",
              "      <td>0.2430</td>\n",
              "      <td>0.3613</td>\n",
              "      <td>0.08758</td>\n",
              "    </tr>\n",
              "    <tr>\n",
              "      <th>3</th>\n",
              "      <td>11.42</td>\n",
              "      <td>20.38</td>\n",
              "      <td>77.58</td>\n",
              "      <td>386.1</td>\n",
              "      <td>0.14250</td>\n",
              "      <td>0.28390</td>\n",
              "      <td>0.2414</td>\n",
              "      <td>0.10520</td>\n",
              "      <td>0.2597</td>\n",
              "      <td>0.09744</td>\n",
              "      <td>0.4956</td>\n",
              "      <td>1.1560</td>\n",
              "      <td>3.445</td>\n",
              "      <td>27.23</td>\n",
              "      <td>0.009110</td>\n",
              "      <td>0.07458</td>\n",
              "      <td>0.05661</td>\n",
              "      <td>0.01867</td>\n",
              "      <td>0.05963</td>\n",
              "      <td>0.009208</td>\n",
              "      <td>14.91</td>\n",
              "      <td>26.50</td>\n",
              "      <td>98.87</td>\n",
              "      <td>567.7</td>\n",
              "      <td>0.2098</td>\n",
              "      <td>0.8663</td>\n",
              "      <td>0.6869</td>\n",
              "      <td>0.2575</td>\n",
              "      <td>0.6638</td>\n",
              "      <td>0.17300</td>\n",
              "    </tr>\n",
              "    <tr>\n",
              "      <th>4</th>\n",
              "      <td>20.29</td>\n",
              "      <td>14.34</td>\n",
              "      <td>135.10</td>\n",
              "      <td>1297.0</td>\n",
              "      <td>0.10030</td>\n",
              "      <td>0.13280</td>\n",
              "      <td>0.1980</td>\n",
              "      <td>0.10430</td>\n",
              "      <td>0.1809</td>\n",
              "      <td>0.05883</td>\n",
              "      <td>0.7572</td>\n",
              "      <td>0.7813</td>\n",
              "      <td>5.438</td>\n",
              "      <td>94.44</td>\n",
              "      <td>0.011490</td>\n",
              "      <td>0.02461</td>\n",
              "      <td>0.05688</td>\n",
              "      <td>0.01885</td>\n",
              "      <td>0.01756</td>\n",
              "      <td>0.005115</td>\n",
              "      <td>22.54</td>\n",
              "      <td>16.67</td>\n",
              "      <td>152.20</td>\n",
              "      <td>1575.0</td>\n",
              "      <td>0.1374</td>\n",
              "      <td>0.2050</td>\n",
              "      <td>0.4000</td>\n",
              "      <td>0.1625</td>\n",
              "      <td>0.2364</td>\n",
              "      <td>0.07678</td>\n",
              "    </tr>\n",
              "  </tbody>\n",
              "</table>\n",
              "</div>"
            ],
            "text/plain": [
              "   mean radius  mean texture  ...  worst symmetry  worst fractal dimension\n",
              "0        17.99         10.38  ...          0.4601                  0.11890\n",
              "1        20.57         17.77  ...          0.2750                  0.08902\n",
              "2        19.69         21.25  ...          0.3613                  0.08758\n",
              "3        11.42         20.38  ...          0.6638                  0.17300\n",
              "4        20.29         14.34  ...          0.2364                  0.07678\n",
              "\n",
              "[5 rows x 30 columns]"
            ]
          },
          "metadata": {
            "tags": []
          },
          "execution_count": 31
        }
      ]
    },
    {
      "cell_type": "code",
      "metadata": {
        "id": "hywWeQsULxI7",
        "colab": {
          "base_uri": "https://localhost:8080/",
          "height": 367
        },
        "outputId": "da14978f-ab8a-4dca-cbf8-ff43076a4ec1"
      },
      "source": [
        "import seaborn as sns\n",
        "sns.heatmap(X.corr())"
      ],
      "execution_count": null,
      "outputs": [
        {
          "output_type": "execute_result",
          "data": {
            "text/plain": [
              "<matplotlib.axes._subplots.AxesSubplot at 0x7f01c96118d0>"
            ]
          },
          "metadata": {
            "tags": []
          },
          "execution_count": 33
        },
        {
          "output_type": "display_data",
          "data": {
            "image/png": "[encoded data removed]",
            "text/plain": [
              "<Figure size 432x288 with 2 Axes>"
            ]
          },
          "metadata": {
            "tags": [],
            "needs_background": "light"
          }
        }
      ]
    },
    {
      "cell_type": "markdown",
      "metadata": {
        "id": "mc3MET9pLxI-"
      },
      "source": [
        "Первый метод -- логистическая регрессия. Несмотря на название, данный метод применяется именно в задачах классификации. Регрессия служит указанием на то, что мы пытаемся предсказать вероятность принадлежности классу\n",
        "\n",
        "#### Задание 7\n",
        "\n",
        "Разбейте выборку на трейн и тест в соотношении 4:1. Обучите модель и предскажите вероятности классов 0 и 1 (это можно сделать с помощью метода $\\textbf{predict_proba}$)"
      ]
    },
    {
      "cell_type": "code",
      "metadata": {
        "id": "EGclRdziLxI_",
        "colab": {
          "base_uri": "https://localhost:8080/"
        },
        "outputId": "d78e91e0-48c7-4f2e-f35c-a729d9dcb9e7"
      },
      "source": [
        "from sklearn.linear_model import LogisticRegression\n",
        "from sklearn.model_selection import train_test_split\n",
        "\n",
        "clf = LogisticRegression()\n",
        "\n",
        "X_train, X_test, y_train, y_test = train_test_split(\n",
        "    X, \n",
        "    y, \n",
        "    test_size=0.2,\n",
        "    random_state=42,\n",
        ")\n",
        "\n",
        "clf.fit(X_train , y_train)\n",
        "predictions = clf.predict_proba(X_test)"
      ],
      "execution_count": null,
      "outputs": [
        {
          "output_type": "stream",
          "text": [
            "/usr/local/lib/python3.6/dist-packages/sklearn/linear_model/_logistic.py:940: ConvergenceWarning: lbfgs failed to converge (status=1):\n",
            "STOP: TOTAL NO. of ITERATIONS REACHED LIMIT.\n",
            "\n",
            "Increase the number of iterations (max_iter) or scale the data as shown in:\n",
            "    https://scikit-learn.org/stable/modules/preprocessing.html\n",
            "Please also refer to the documentation for alternative solver options:\n",
            "    https://scikit-learn.org/stable/modules/linear_model.html#logistic-regression\n",
            "  extra_warning_msg=_LOGISTIC_SOLVER_CONVERGENCE_MSG)\n"
          ],
          "name": "stderr"
        }
      ]
    },
    {
      "cell_type": "code",
      "metadata": {
        "id": "I6cInyPqLxJD",
        "colab": {
          "base_uri": "https://localhost:8080/"
        },
        "outputId": "7ee5e4ff-ea99-4dd0-9e53-064a4ef6ded1"
      },
      "source": [
        "predictions.shape"
      ],
      "execution_count": null,
      "outputs": [
        {
          "output_type": "execute_result",
          "data": {
            "text/plain": [
              "(114, 2)"
            ]
          },
          "metadata": {
            "tags": []
          },
          "execution_count": 36
        }
      ]
    },
    {
      "cell_type": "markdown",
      "metadata": {
        "id": "2YJ0npFuLxJJ"
      },
      "source": [
        "Подсчитаем accuracy и roc-auc наших предсказаний"
      ]
    },
    {
      "cell_type": "code",
      "metadata": {
        "id": "ZLlgESw6LxJK"
      },
      "source": [
        "from sklearn.metrics import accuracy_score, roc_curve, roc_auc_score, f1_score"
      ],
      "execution_count": null,
      "outputs": []
    },
    {
      "cell_type": "code",
      "metadata": {
        "id": "ccLJFypILxJN",
        "colab": {
          "base_uri": "https://localhost:8080/"
        },
        "outputId": "ba65d70a-6ab1-485a-daa9-bc12aa227729"
      },
      "source": [
        "accuracy_score(y_test, predictions[:, 1] > 0.7)"
      ],
      "execution_count": null,
      "outputs": [
        {
          "output_type": "execute_result",
          "data": {
            "text/plain": [
              "0.9736842105263158"
            ]
          },
          "metadata": {
            "tags": []
          },
          "execution_count": 46
        }
      ]
    },
    {
      "cell_type": "code",
      "metadata": {
        "id": "RGc0Z_dLLxJc"
      },
      "source": [
        "fpr, tpr, _ = roc_curve(y_test, predictions[:, 1])\n",
        "auc = roc_auc_score(y_test, predictions[:, 1])"
      ],
      "execution_count": null,
      "outputs": []
    },
    {
      "cell_type": "code",
      "metadata": {
        "id": "vGxIfVmsLxJf",
        "colab": {
          "base_uri": "https://localhost:8080/",
          "height": 333
        },
        "outputId": "a92b267e-91d1-4d96-f757-a64f767ab781"
      },
      "source": [
        "plt.figure(figsize=(10, 5))\n",
        "plt.plot(fpr, tpr)\n",
        "plt.xlabel('FPR')\n",
        "plt.ylabel('TPR')\n",
        "plt.grid()\n",
        "plt.show()"
      ],
      "execution_count": null,
      "outputs": [
        {
          "output_type": "display_data",
          "data": {
            "image/png": "[encoded data removed]",
            "text/plain": [
              "<Figure size 720x360 with 1 Axes>"
            ]
          },
          "metadata": {
            "tags": [],
            "needs_background": "light"
          }
        }
      ]
    },
    {
      "cell_type": "code",
      "metadata": {
        "id": "qMX0_qO7LxJi",
        "colab": {
          "base_uri": "https://localhost:8080/"
        },
        "outputId": "790378b2-3131-493b-b337-26c94658ef9a"
      },
      "source": [
        "auc"
      ],
      "execution_count": null,
      "outputs": [
        {
          "output_type": "execute_result",
          "data": {
            "text/plain": [
              "0.9970520799213888"
            ]
          },
          "metadata": {
            "tags": []
          },
          "execution_count": 42
        }
      ]
    },
    {
      "cell_type": "markdown",
      "metadata": {
        "id": "1Fa4eqisLxJp"
      },
      "source": [
        "#### Задание 8\n",
        "\n",
        "Обучите линейный SVM и подсчитайте точность его предсказаний на тесте. Подсчитайте и ROC-AUC. Что можно сказать про эти результаты?\n",
        "\n",
        "Замечание: чтобы создать классический линейный SVM нужно в качестве параметра в конструктор передать kernel=\"linear\""
      ]
    },
    {
      "cell_type": "code",
      "metadata": {
        "id": "KDCHTb_xLxJs"
      },
      "source": [
        "from sklearn.svm import SVC "
      ],
      "execution_count": null,
      "outputs": []
    },
    {
      "cell_type": "code",
      "metadata": {
        "id": "lMaS962vLxJy",
        "colab": {
          "base_uri": "https://localhost:8080/"
        },
        "outputId": "968a3ab7-c5b0-4d89-f15e-2fdc26b5a4c4"
      },
      "source": [
        "clf = SVC(kernel=\"linear\" ,probability=True )\n",
        "clf.fit(X_train, y_train)"
      ],
      "execution_count": null,
      "outputs": [
        {
          "output_type": "execute_result",
          "data": {
            "text/plain": [
              "SVC(C=1.0, break_ties=False, cache_size=200, class_weight=None, coef0=0.0,\n",
              "    decision_function_shape='ovr', degree=3, gamma='scale', kernel='linear',\n",
              "    max_iter=-1, probability=True, random_state=None, shrinking=True, tol=0.001,\n",
              "    verbose=False)"
            ]
          },
          "metadata": {
            "tags": []
          },
          "execution_count": 51
        }
      ]
    },
    {
      "cell_type": "code",
      "metadata": {
        "id": "8Aag_LqJvlZ0"
      },
      "source": [
        "predictions = clf.predict_proba(X_test)"
      ],
      "execution_count": null,
      "outputs": []
    },
    {
      "cell_type": "code",
      "metadata": {
        "id": "40xidCLwvl9M",
        "colab": {
          "base_uri": "https://localhost:8080/"
        },
        "outputId": "0eb3bbcd-ca98-45b3-de57-bcb81c155c41"
      },
      "source": [
        "accuracy_score(y_test, predictions[:, 1] > 0.7)"
      ],
      "execution_count": null,
      "outputs": [
        {
          "output_type": "execute_result",
          "data": {
            "text/plain": [
              "0.956140350877193"
            ]
          },
          "metadata": {
            "tags": []
          },
          "execution_count": 53
        }
      ]
    },
    {
      "cell_type": "code",
      "metadata": {
        "id": "8p8xp7yqvlwo"
      },
      "source": [
        "fpr, tpr, _ = roc_curve(y_test, predictions[:, 1])\n",
        "auc = roc_auc_score(y_test, predictions[:, 1])"
      ],
      "execution_count": null,
      "outputs": []
    },
    {
      "cell_type": "code",
      "metadata": {
        "id": "LPx5bkgFvlOm",
        "colab": {
          "base_uri": "https://localhost:8080/",
          "height": 333
        },
        "outputId": "14b679f3-8796-4bc0-86e9-f0c1fef3c79f"
      },
      "source": [
        "plt.figure(figsize=(10, 5))\n",
        "plt.plot(fpr, tpr)\n",
        "plt.xlabel('FPR')\n",
        "plt.ylabel('TPR')\n",
        "plt.grid()\n",
        "plt.show()"
      ],
      "execution_count": null,
      "outputs": [
        {
          "output_type": "display_data",
          "data": {
            "image/png": "[encoded data removed]",
            "text/plain": [
              "<Figure size 720x360 with 1 Axes>"
            ]
          },
          "metadata": {
            "tags": [],
            "needs_background": "light"
          }
        }
      ]
    },
    {
      "cell_type": "code",
      "metadata": {
        "id": "iLjiTIBzvxmM",
        "colab": {
          "base_uri": "https://localhost:8080/"
        },
        "outputId": "afdecf07-6b6a-4917-d96d-5e0de135cb20"
      },
      "source": [
        "auc"
      ],
      "execution_count": null,
      "outputs": [
        {
          "output_type": "execute_result",
          "data": {
            "text/plain": [
              "0.9957418932197839"
            ]
          },
          "metadata": {
            "tags": []
          },
          "execution_count": 56
        }
      ]
    },
    {
      "cell_type": "markdown",
      "metadata": {
        "id": "taY4jlJBLxJ5"
      },
      "source": [
        "SVM очень мощный алгоритм и долгое время он использовался почти во всех областях как основной инструмент для построения систем искуственного интеллекта (прямо как нейросети сейчас).\n",
        "\n",
        "Однако его мощь приносит и немало слабостей. В частности он оказывается довольно чувствительным к шуму в данных и наличию несбалинсированности в классах.\n",
        "\n",
        "Один из способов побороть вторую проблему -- давать бОльшие веса тем объектам, которых в выборке встречается меньше, тогда при обучении оба класса будут иметь одинаковый вклад в функцию потерь и модель будет обучаться лучше.\n",
        "\n",
        "#### Задание 8\n",
        "\n",
        "Разберитесь какой аргумент нужно передать в конструктор, чтобы модель боролась с несбалансированностью классов и обучите ее. Получилось ли улучшить качество?"
      ]
    },
    {
      "cell_type": "code",
      "metadata": {
        "id": "dU82mx95LxJ6"
      },
      "source": [
        "clf = SVC(class_weight='balanced' , probability=True)"
      ],
      "execution_count": null,
      "outputs": []
    },
    {
      "cell_type": "code",
      "metadata": {
        "id": "yPZfmRWQyy1O",
        "colab": {
          "base_uri": "https://localhost:8080/"
        },
        "outputId": "b8f77122-d287-4291-9473-c00a264e3d03"
      },
      "source": [
        "clf.fit(X_train , y_train)"
      ],
      "execution_count": null,
      "outputs": [
        {
          "output_type": "execute_result",
          "data": {
            "text/plain": [
              "SVC(C=1.0, break_ties=False, cache_size=200, class_weight='balanced', coef0=0.0,\n",
              "    decision_function_shape='ovr', degree=3, gamma='scale', kernel='rbf',\n",
              "    max_iter=-1, probability=True, random_state=None, shrinking=True, tol=0.001,\n",
              "    verbose=False)"
            ]
          },
          "metadata": {
            "tags": []
          },
          "execution_count": 73
        }
      ]
    },
    {
      "cell_type": "code",
      "metadata": {
        "id": "_lIy2xcsypS5"
      },
      "source": [
        "predictions = clf.predict_proba(X_test)"
      ],
      "execution_count": null,
      "outputs": []
    },
    {
      "cell_type": "code",
      "metadata": {
        "id": "Ho-XccWyy7OL",
        "colab": {
          "base_uri": "https://localhost:8080/"
        },
        "outputId": "3eacd475-bd42-4c27-8421-1450987da567"
      },
      "source": [
        "predictions = clf.predict_proba(X_test)\n",
        "accuracy_score(y_test, predictions[:, 1] > 0.7)"
      ],
      "execution_count": null,
      "outputs": [
        {
          "output_type": "execute_result",
          "data": {
            "text/plain": [
              "0.9473684210526315"
            ]
          },
          "metadata": {
            "tags": []
          },
          "execution_count": 75
        }
      ]
    },
    {
      "cell_type": "code",
      "metadata": {
        "id": "sV7uC1nZy8_K"
      },
      "source": [
        "predictions = clf.predict_proba(X_test)\n",
        "print(accuracy_score(y_test, predictions[:, 1] > 0.7))\n",
        "fpr, tpr, _ = roc_curve(y_test, predictions[:, 1])\n",
        "auc = roc_auc_score(y_test, predictions[:, 1])"
      ],
      "execution_count": null,
      "outputs": []
    },
    {
      "cell_type": "code",
      "metadata": {
        "id": "pUg6p6wZy8ny",
        "colab": {
          "base_uri": "https://localhost:8080/",
          "height": 334
        },
        "outputId": "3bdb9b17-4ec6-41e2-ed5f-97b33494e290"
      },
      "source": [
        "plt.figure(figsize=(10, 5))\n",
        "plt.plot(fpr, tpr)\n",
        "plt.xlabel('FPR')\n",
        "plt.ylabel('TPR')\n",
        "plt.grid()\n",
        "plt.show()"
      ],
      "execution_count": null,
      "outputs": [
        {
          "output_type": "display_data",
          "data": {
            "image/png": "[encoded data removed]",
            "text/plain": [
              "<Figure size 720x360 with 1 Axes>"
            ]
          },
          "metadata": {
            "tags": [],
            "needs_background": "light"
          }
        }
      ]
    },
    {
      "cell_type": "code",
      "metadata": {
        "id": "EuuNbTmRzCU2",
        "colab": {
          "base_uri": "https://localhost:8080/"
        },
        "outputId": "7c96b407-056c-410b-fa8f-82e21721ce1f"
      },
      "source": [
        "auc"
      ],
      "execution_count": null,
      "outputs": [
        {
          "output_type": "execute_result",
          "data": {
            "text/plain": [
              "0.9924664264657713"
            ]
          },
          "metadata": {
            "tags": []
          },
          "execution_count": 78
        }
      ]
    },
    {
      "cell_type": "markdown",
      "metadata": {
        "id": "A0hQRo1TLxJ9"
      },
      "source": [
        "#### Задание 9\n",
        "\n",
        "Побороть шум и улучшить сходимость модели помогает нормировка признаков. Выполните ее и обучите предыдущую модель."
      ]
    },
    {
      "cell_type": "code",
      "metadata": {
        "id": "l3igrhOTLxJ-"
      },
      "source": [
        "from sklearn.preprocessing import StandardScaler\n",
        "\n",
        "scaler = StandardScaler()\n",
        "\n",
        "# Подобрать \"веса\" объекта scaler\n",
        "scaler.fit(X_train)\n",
        "\n",
        "X_train = scaler.transform(X_train)\n",
        "X_test = scaler.transform(X_test)"
      ],
      "execution_count": null,
      "outputs": []
    },
    {
      "cell_type": "code",
      "metadata": {
        "id": "M0IT2WIk3D_t",
        "colab": {
          "base_uri": "https://localhost:8080/"
        },
        "outputId": "61962859-401a-49d8-a1d6-5ff47aa765d1"
      },
      "source": [
        "clf = SVC(kernel=\"linear\" ,probability=True , class_weight = 'balanced')\n",
        "clf.fit(X_train, y_train)"
      ],
      "execution_count": null,
      "outputs": [
        {
          "output_type": "execute_result",
          "data": {
            "text/plain": [
              "SVC(C=1.0, break_ties=False, cache_size=200, class_weight='balanced', coef0=0.0,\n",
              "    decision_function_shape='ovr', degree=3, gamma='scale', kernel='linear',\n",
              "    max_iter=-1, probability=True, random_state=None, shrinking=True, tol=0.001,\n",
              "    verbose=False)"
            ]
          },
          "metadata": {
            "tags": []
          },
          "execution_count": 80
        }
      ]
    },
    {
      "cell_type": "code",
      "metadata": {
        "id": "rZxnoWoB3Dx7",
        "colab": {
          "base_uri": "https://localhost:8080/"
        },
        "outputId": "9adc9047-abbc-4cf7-f1e0-1a3548bb512f"
      },
      "source": [
        "predictions = clf.predict_proba(X_test)\n",
        "print(accuracy_score(y_test, predictions[:, 1] > 0.7))\n",
        "fpr, tpr, _ = roc_curve(y_test, predictions[:, 1])\n",
        "auc = roc_auc_score(y_test, predictions[:, 1])"
      ],
      "execution_count": null,
      "outputs": [
        {
          "output_type": "stream",
          "text": [
            "0.9649122807017544\n"
          ],
          "name": "stdout"
        }
      ]
    },
    {
      "cell_type": "code",
      "metadata": {
        "id": "Yeg8RsHX3SW-",
        "colab": {
          "base_uri": "https://localhost:8080/"
        },
        "outputId": "955e1034-d021-48bf-81f9-2183f8e2fde1"
      },
      "source": [
        "auc"
      ],
      "execution_count": null,
      "outputs": [
        {
          "output_type": "execute_result",
          "data": {
            "text/plain": [
              "0.9967245332459875"
            ]
          },
          "metadata": {
            "tags": []
          },
          "execution_count": 82
        }
      ]
    },
    {
      "cell_type": "code",
      "metadata": {
        "id": "tyFQqSMS3vxT"
      },
      "source": [
        "from sklearn.svm import SVC\n",
        "from sklearn.preprocessing import StandardScaler\n",
        "from sklearn.datasets import make_classification\n",
        "from sklearn.model_selection import train_test_split\n",
        "from sklearn.pipeline import Pipeline"
      ],
      "execution_count": null,
      "outputs": []
    },
    {
      "cell_type": "code",
      "metadata": {
        "id": "YllY8tHG3v5B"
      },
      "source": [
        "pipe = Pipeline([('scaler', StandardScaler()), ('svc', SVC())])"
      ],
      "execution_count": null,
      "outputs": []
    },
    {
      "cell_type": "code",
      "metadata": {
        "id": "cE6EwvL93v2H",
        "colab": {
          "base_uri": "https://localhost:8080/"
        },
        "outputId": "816a5413-b490-4f06-ed37-bc14f597d25c"
      },
      "source": [
        "pipe.fit(X_train, y_train)"
      ],
      "execution_count": null,
      "outputs": [
        {
          "output_type": "execute_result",
          "data": {
            "text/plain": [
              "Pipeline(memory=None,\n",
              "         steps=[('scaler',\n",
              "                 StandardScaler(copy=True, with_mean=True, with_std=True)),\n",
              "                ('svc',\n",
              "                 SVC(C=1.0, break_ties=False, cache_size=200, class_weight=None,\n",
              "                     coef0=0.0, decision_function_shape='ovr', degree=3,\n",
              "                     gamma='scale', kernel='rbf', max_iter=-1,\n",
              "                     probability=False, random_state=None, shrinking=True,\n",
              "                     tol=0.001, verbose=False))],\n",
              "         verbose=False)"
            ]
          },
          "metadata": {
            "tags": []
          },
          "execution_count": 85
        }
      ]
    },
    {
      "cell_type": "code",
      "metadata": {
        "id": "YLf_-8mw3vqL",
        "colab": {
          "base_uri": "https://localhost:8080/"
        },
        "outputId": "dbcdaf83-3bd9-449d-ae17-ea6f7d6aeaec"
      },
      "source": [
        "pipe.score(X_test, y_test)"
      ],
      "execution_count": null,
      "outputs": [
        {
          "output_type": "execute_result",
          "data": {
            "text/plain": [
              "0.9824561403508771"
            ]
          },
          "metadata": {
            "tags": []
          },
          "execution_count": 86
        }
      ]
    },
    {
      "cell_type": "markdown",
      "metadata": {
        "id": "0i6gnCyALxKB"
      },
      "source": [
        "#### Задание 10*"
      ]
    },
    {
      "cell_type": "markdown",
      "metadata": {
        "id": "33TAdST1LxKC"
      },
      "source": [
        "Возьмем датасет содержащий информацию о клиентах и маркетинговой кампании некоторого банка. Задача - предсказать успешность кампании для каждого клиента (воспользуется услугой или нет) "
      ]
    },
    {
      "cell_type": "code",
      "metadata": {
        "id": "xebLd5bOLxKD"
      },
      "source": [
        "# Считаем данные\n",
        "# data = pd.read_csv('bank-additional-full.csv', sep=';')\n",
        "data = pd.read_csv('https://github.com/h2oai/h2o-2/raw/master/smalldata/bank-additional-full.csv', sep=';')"
      ],
      "execution_count": null,
      "outputs": []
    },
    {
      "cell_type": "code",
      "metadata": {
        "id": "L7Al-J5BLxKG",
        "colab": {
          "base_uri": "https://localhost:8080/",
          "height": 215
        },
        "outputId": "4fd5a3ce-ce49-4f08-c2c7-3fb7906a0284"
      },
      "source": [
        "data.head()"
      ],
      "execution_count": null,
      "outputs": [
        {
          "output_type": "execute_result",
          "data": {
            "text/html": [
              "<div>\n",
              "<style scoped>\n",
              "    .dataframe tbody tr th:only-of-type {\n",
              "        vertical-align: middle;\n",
              "    }\n",
              "\n",
              "    .dataframe tbody tr th {\n",
              "        vertical-align: top;\n",
              "    }\n",
              "\n",
              "    .dataframe thead th {\n",
              "        text-align: right;\n",
              "    }\n",
              "</style>\n",
              "<table border=\"1\" class=\"dataframe\">\n",
              "  <thead>\n",
              "    <tr style=\"text-align: right;\">\n",
              "      <th></th>\n",
              "      <th>age</th>\n",
              "      <th>job</th>\n",
              "      <th>marital</th>\n",
              "      <th>education</th>\n",
              "      <th>default</th>\n",
              "      <th>housing</th>\n",
              "      <th>loan</th>\n",
              "      <th>contact</th>\n",
              "      <th>month</th>\n",
              "      <th>day_of_week</th>\n",
              "      <th>duration</th>\n",
              "      <th>campaign</th>\n",
              "      <th>pdays</th>\n",
              "      <th>previous</th>\n",
              "      <th>poutcome</th>\n",
              "      <th>emp.var.rate</th>\n",
              "      <th>cons.price.idx</th>\n",
              "      <th>cons.conf.idx</th>\n",
              "      <th>euribor3m</th>\n",
              "      <th>nr.employed</th>\n",
              "      <th>y</th>\n",
              "    </tr>\n",
              "  </thead>\n",
              "  <tbody>\n",
              "    <tr>\n",
              "      <th>0</th>\n",
              "      <td>56</td>\n",
              "      <td>housemaid</td>\n",
              "      <td>married</td>\n",
              "      <td>basic.4y</td>\n",
              "      <td>no</td>\n",
              "      <td>no</td>\n",
              "      <td>no</td>\n",
              "      <td>telephone</td>\n",
              "      <td>may</td>\n",
              "      <td>mon</td>\n",
              "      <td>261</td>\n",
              "      <td>1</td>\n",
              "      <td>999</td>\n",
              "      <td>0</td>\n",
              "      <td>nonexistent</td>\n",
              "      <td>1.1</td>\n",
              "      <td>93.994</td>\n",
              "      <td>-36.4</td>\n",
              "      <td>4.857</td>\n",
              "      <td>5191.0</td>\n",
              "      <td>no</td>\n",
              "    </tr>\n",
              "    <tr>\n",
              "      <th>1</th>\n",
              "      <td>57</td>\n",
              "      <td>services</td>\n",
              "      <td>married</td>\n",
              "      <td>high.school</td>\n",
              "      <td>unknown</td>\n",
              "      <td>no</td>\n",
              "      <td>no</td>\n",
              "      <td>telephone</td>\n",
              "      <td>may</td>\n",
              "      <td>mon</td>\n",
              "      <td>149</td>\n",
              "      <td>1</td>\n",
              "      <td>999</td>\n",
              "      <td>0</td>\n",
              "      <td>nonexistent</td>\n",
              "      <td>1.1</td>\n",
              "      <td>93.994</td>\n",
              "      <td>-36.4</td>\n",
              "      <td>4.857</td>\n",
              "      <td>5191.0</td>\n",
              "      <td>no</td>\n",
              "    </tr>\n",
              "    <tr>\n",
              "      <th>2</th>\n",
              "      <td>37</td>\n",
              "      <td>services</td>\n",
              "      <td>married</td>\n",
              "      <td>high.school</td>\n",
              "      <td>no</td>\n",
              "      <td>yes</td>\n",
              "      <td>no</td>\n",
              "      <td>telephone</td>\n",
              "      <td>may</td>\n",
              "      <td>mon</td>\n",
              "      <td>226</td>\n",
              "      <td>1</td>\n",
              "      <td>999</td>\n",
              "      <td>0</td>\n",
              "      <td>nonexistent</td>\n",
              "      <td>1.1</td>\n",
              "      <td>93.994</td>\n",
              "      <td>-36.4</td>\n",
              "      <td>4.857</td>\n",
              "      <td>5191.0</td>\n",
              "      <td>no</td>\n",
              "    </tr>\n",
              "    <tr>\n",
              "      <th>3</th>\n",
              "      <td>40</td>\n",
              "      <td>admin.</td>\n",
              "      <td>married</td>\n",
              "      <td>basic.6y</td>\n",
              "      <td>no</td>\n",
              "      <td>no</td>\n",
              "      <td>no</td>\n",
              "      <td>telephone</td>\n",
              "      <td>may</td>\n",
              "      <td>mon</td>\n",
              "      <td>151</td>\n",
              "      <td>1</td>\n",
              "      <td>999</td>\n",
              "      <td>0</td>\n",
              "      <td>nonexistent</td>\n",
              "      <td>1.1</td>\n",
              "      <td>93.994</td>\n",
              "      <td>-36.4</td>\n",
              "      <td>4.857</td>\n",
              "      <td>5191.0</td>\n",
              "      <td>no</td>\n",
              "    </tr>\n",
              "    <tr>\n",
              "      <th>4</th>\n",
              "      <td>56</td>\n",
              "      <td>services</td>\n",
              "      <td>married</td>\n",
              "      <td>high.school</td>\n",
              "      <td>no</td>\n",
              "      <td>no</td>\n",
              "      <td>yes</td>\n",
              "      <td>telephone</td>\n",
              "      <td>may</td>\n",
              "      <td>mon</td>\n",
              "      <td>307</td>\n",
              "      <td>1</td>\n",
              "      <td>999</td>\n",
              "      <td>0</td>\n",
              "      <td>nonexistent</td>\n",
              "      <td>1.1</td>\n",
              "      <td>93.994</td>\n",
              "      <td>-36.4</td>\n",
              "      <td>4.857</td>\n",
              "      <td>5191.0</td>\n",
              "      <td>no</td>\n",
              "    </tr>\n",
              "  </tbody>\n",
              "</table>\n",
              "</div>"
            ],
            "text/plain": [
              "   age        job  marital  ... euribor3m nr.employed   y\n",
              "0   56  housemaid  married  ...     4.857      5191.0  no\n",
              "1   57   services  married  ...     4.857      5191.0  no\n",
              "2   37   services  married  ...     4.857      5191.0  no\n",
              "3   40     admin.  married  ...     4.857      5191.0  no\n",
              "4   56   services  married  ...     4.857      5191.0  no\n",
              "\n",
              "[5 rows x 21 columns]"
            ]
          },
          "metadata": {
            "tags": []
          },
          "execution_count": 120
        }
      ]
    },
    {
      "cell_type": "code",
      "metadata": {
        "id": "z6s2zJ0gLxKJ",
        "colab": {
          "base_uri": "https://localhost:8080/"
        },
        "outputId": "36448a86-7e3d-4371-ac91-a6863e9bb989"
      },
      "source": [
        "data.info()"
      ],
      "execution_count": null,
      "outputs": [
        {
          "output_type": "stream",
          "text": [
            "<class 'pandas.core.frame.DataFrame'>\n",
            "RangeIndex: 41188 entries, 0 to 41187\n",
            "Data columns (total 21 columns):\n",
            " #   Column          Non-Null Count  Dtype  \n",
            "---  ------          --------------  -----  \n",
            " 0   age             41188 non-null  int64  \n",
            " 1   job             41188 non-null  object \n",
            " 2   marital         41188 non-null  object \n",
            " 3   education       41188 non-null  object \n",
            " 4   default         41188 non-null  object \n",
            " 5   housing         41188 non-null  object \n",
            " 6   loan            41188 non-null  object \n",
            " 7   contact         41188 non-null  object \n",
            " 8   month           41188 non-null  object \n",
            " 9   day_of_week     41188 non-null  object \n",
            " 10  duration        41188 non-null  int64  \n",
            " 11  campaign        41188 non-null  int64  \n",
            " 12  pdays           41188 non-null  int64  \n",
            " 13  previous        41188 non-null  int64  \n",
            " 14  poutcome        41188 non-null  object \n",
            " 15  emp.var.rate    41188 non-null  float64\n",
            " 16  cons.price.idx  41188 non-null  float64\n",
            " 17  cons.conf.idx   41188 non-null  float64\n",
            " 18  euribor3m       41188 non-null  float64\n",
            " 19  nr.employed     41188 non-null  float64\n",
            " 20  y               41188 non-null  object \n",
            "dtypes: float64(5), int64(5), object(11)\n",
            "memory usage: 6.6+ MB\n"
          ],
          "name": "stdout"
        }
      ]
    },
    {
      "cell_type": "code",
      "metadata": {
        "id": "Wa6-bw3NLxKN"
      },
      "source": [
        "X = data.iloc[:, :-1].copy()\n",
        "y = data.iloc[:, -1].copy()\n",
        "\n",
        "# Бинаризуем таргет\n",
        "from sklearn.preprocessing import LabelBinarizer\n",
        "y = LabelBinarizer().fit_transform(y).ravel()"
      ],
      "execution_count": null,
      "outputs": []
    },
    {
      "cell_type": "markdown",
      "metadata": {
        "id": "lJGmKrZoLxKQ"
      },
      "source": [
        "Классы очень несбалансированы:"
      ]
    },
    {
      "cell_type": "code",
      "metadata": {
        "id": "0CF2rLLnLxKS",
        "colab": {
          "base_uri": "https://localhost:8080/"
        },
        "outputId": "6876283e-5abf-4ef0-bb90-39c94a1a6975"
      },
      "source": [
        "y.mean()"
      ],
      "execution_count": null,
      "outputs": [
        {
          "output_type": "execute_result",
          "data": {
            "text/plain": [
              "0.11265417111780131"
            ]
          },
          "metadata": {
            "tags": []
          },
          "execution_count": 124
        }
      ]
    },
    {
      "cell_type": "markdown",
      "metadata": {
        "id": "neOtC10LLxKW"
      },
      "source": [
        "Заметим, что среди признаков достаточно много категориальных, в то время как линейные модели работают с числовыми признаками.\n",
        "\n",
        "Одним из способов получить числовые значения категориальных параметров является One-hot encoding. Его суть состоит в том, что для каждого категориального признака $f$ и каждого его значения $v$ создается новый признак, который равен 1 если у объекта значение $f$ равно $v$ и 0 иначе.\n",
        "\n",
        "One-hot encoding с помощью pandas можно сделать одной строчкой:"
      ]
    },
    {
      "cell_type": "code",
      "metadata": {
        "id": "_kGw6KyZLxKX",
        "colab": {
          "base_uri": "https://localhost:8080/"
        },
        "outputId": "8d01291e-df76-46a9-a8b0-128d58bd0a8e"
      },
      "source": [
        "X = pd.get_dummies(X)\n",
        "\n",
        "# Обратите внимание на признаки\n",
        "X.info()"
      ],
      "execution_count": null,
      "outputs": [
        {
          "output_type": "stream",
          "text": [
            "<class 'pandas.core.frame.DataFrame'>\n",
            "RangeIndex: 41188 entries, 0 to 41187\n",
            "Data columns (total 63 columns):\n",
            " #   Column                         Non-Null Count  Dtype  \n",
            "---  ------                         --------------  -----  \n",
            " 0   age                            41188 non-null  int64  \n",
            " 1   duration                       41188 non-null  int64  \n",
            " 2   campaign                       41188 non-null  int64  \n",
            " 3   pdays                          41188 non-null  int64  \n",
            " 4   previous                       41188 non-null  int64  \n",
            " 5   emp.var.rate                   41188 non-null  float64\n",
            " 6   cons.price.idx                 41188 non-null  float64\n",
            " 7   cons.conf.idx                  41188 non-null  float64\n",
            " 8   euribor3m                      41188 non-null  float64\n",
            " 9   nr.employed                    41188 non-null  float64\n",
            " 10  job_admin.                     41188 non-null  uint8  \n",
            " 11  job_blue-collar                41188 non-null  uint8  \n",
            " 12  job_entrepreneur               41188 non-null  uint8  \n",
            " 13  job_housemaid                  41188 non-null  uint8  \n",
            " 14  job_management                 41188 non-null  uint8  \n",
            " 15  job_retired                    41188 non-null  uint8  \n",
            " 16  job_self-employed              41188 non-null  uint8  \n",
            " 17  job_services                   41188 non-null  uint8  \n",
            " 18  job_student                    41188 non-null  uint8  \n",
            " 19  job_technician                 41188 non-null  uint8  \n",
            " 20  job_unemployed                 41188 non-null  uint8  \n",
            " 21  job_unknown                    41188 non-null  uint8  \n",
            " 22  marital_divorced               41188 non-null  uint8  \n",
            " 23  marital_married                41188 non-null  uint8  \n",
            " 24  marital_single                 41188 non-null  uint8  \n",
            " 25  marital_unknown                41188 non-null  uint8  \n",
            " 26  education_basic.4y             41188 non-null  uint8  \n",
            " 27  education_basic.6y             41188 non-null  uint8  \n",
            " 28  education_basic.9y             41188 non-null  uint8  \n",
            " 29  education_high.school          41188 non-null  uint8  \n",
            " 30  education_illiterate           41188 non-null  uint8  \n",
            " 31  education_professional.course  41188 non-null  uint8  \n",
            " 32  education_university.degree    41188 non-null  uint8  \n",
            " 33  education_unknown              41188 non-null  uint8  \n",
            " 34  default_no                     41188 non-null  uint8  \n",
            " 35  default_unknown                41188 non-null  uint8  \n",
            " 36  default_yes                    41188 non-null  uint8  \n",
            " 37  housing_no                     41188 non-null  uint8  \n",
            " 38  housing_unknown                41188 non-null  uint8  \n",
            " 39  housing_yes                    41188 non-null  uint8  \n",
            " 40  loan_no                        41188 non-null  uint8  \n",
            " 41  loan_unknown                   41188 non-null  uint8  \n",
            " 42  loan_yes                       41188 non-null  uint8  \n",
            " 43  contact_cellular               41188 non-null  uint8  \n",
            " 44  contact_telephone              41188 non-null  uint8  \n",
            " 45  month_apr                      41188 non-null  uint8  \n",
            " 46  month_aug                      41188 non-null  uint8  \n",
            " 47  month_dec                      41188 non-null  uint8  \n",
            " 48  month_jul                      41188 non-null  uint8  \n",
            " 49  month_jun                      41188 non-null  uint8  \n",
            " 50  month_mar                      41188 non-null  uint8  \n",
            " 51  month_may                      41188 non-null  uint8  \n",
            " 52  month_nov                      41188 non-null  uint8  \n",
            " 53  month_oct                      41188 non-null  uint8  \n",
            " 54  month_sep                      41188 non-null  uint8  \n",
            " 55  day_of_week_fri                41188 non-null  uint8  \n",
            " 56  day_of_week_mon                41188 non-null  uint8  \n",
            " 57  day_of_week_thu                41188 non-null  uint8  \n",
            " 58  day_of_week_tue                41188 non-null  uint8  \n",
            " 59  day_of_week_wed                41188 non-null  uint8  \n",
            " 60  poutcome_failure               41188 non-null  uint8  \n",
            " 61  poutcome_nonexistent           41188 non-null  uint8  \n",
            " 62  poutcome_success               41188 non-null  uint8  \n",
            "dtypes: float64(5), int64(5), uint8(53)\n",
            "memory usage: 5.2 MB\n"
          ],
          "name": "stdout"
        }
      ]
    },
    {
      "cell_type": "markdown",
      "metadata": {
        "id": "7gfBTdKiLxKa"
      },
      "source": [
        "Разобьем выборку на трейн и тест"
      ]
    },
    {
      "cell_type": "code",
      "metadata": {
        "id": "kcjupxosLxKc"
      },
      "source": [
        "X_train, X_test, y_train, y_test = train_test_split(X, y, test_size=0.2)"
      ],
      "execution_count": null,
      "outputs": []
    },
    {
      "cell_type": "code",
      "metadata": {
        "id": "873uXtfq-AHQ"
      },
      "source": [
        ""
      ],
      "execution_count": null,
      "outputs": []
    },
    {
      "cell_type": "markdown",
      "metadata": {
        "id": "3Ywp8y8oLxKi"
      },
      "source": [
        "Обучим линейный SVM"
      ]
    },
    {
      "cell_type": "code",
      "metadata": {
        "id": "OancQMIULxKk",
        "colab": {
          "base_uri": "https://localhost:8080/"
        },
        "outputId": "369a80c6-73e3-4147-d586-97fd7f8f2193"
      },
      "source": [
        "model_svm = SVC(kernel='linear')\n",
        "model_svm.fit(X_train, y_train)\n",
        "\n",
        "y_pred = model_svm.predict(X_test)\n",
        "print('Test accuracy: ', accuracy_score(y_test, y_pred))\n",
        "print('Test F measure: ', f1_score(y_test, y_pred))"
      ],
      "execution_count": null,
      "outputs": [
        {
          "output_type": "stream",
          "text": [
            "Test accuracy:  0.8684146637533382\n",
            "Test F measure:  0.45582329317269077\n"
          ],
          "name": "stdout"
        }
      ]
    },
    {
      "cell_type": "markdown",
      "metadata": {
        "id": "hv0okJy8LxKn"
      },
      "source": [
        "Логистическая регрессия"
      ]
    },
    {
      "cell_type": "code",
      "metadata": {
        "id": "t2aXn2DrLxKo",
        "colab": {
          "base_uri": "https://localhost:8080/"
        },
        "outputId": "739c21c7-e470-471f-b19f-90cb28cbdbd6"
      },
      "source": [
        "model_logistic = LogisticRegression()\n",
        "model_logistic.fit(X_train, y_train)\n",
        "\n",
        "y_pred = model_logistic.predict_proba(X_test)[:, 1]\n",
        "print('Test accuracy: ', accuracy_score(y_test, y_pred > 0.5))\n",
        "print('Test F measure: ', f1_score(y_test, y_pred >0.5))\n",
        "print('Test ROC-AUC: ', roc_auc_score(y_test, y_pred))"
      ],
      "execution_count": null,
      "outputs": [
        {
          "output_type": "stream",
          "text": [
            "Test accuracy:  0.9119932022335518\n",
            "Test F measure:  0.4919411352487736\n",
            "Test ROC-AUC:  0.9229697771713767\n"
          ],
          "name": "stdout"
        },
        {
          "output_type": "stream",
          "text": [
            "/usr/local/lib/python3.6/dist-packages/sklearn/linear_model/_logistic.py:940: ConvergenceWarning: lbfgs failed to converge (status=1):\n",
            "STOP: TOTAL NO. of ITERATIONS REACHED LIMIT.\n",
            "\n",
            "Increase the number of iterations (max_iter) or scale the data as shown in:\n",
            "    https://scikit-learn.org/stable/modules/preprocessing.html\n",
            "Please also refer to the documentation for alternative solver options:\n",
            "    https://scikit-learn.org/stable/modules/linear_model.html#logistic-regression\n",
            "  extra_warning_msg=_LOGISTIC_SOLVER_CONVERGENCE_MSG)\n"
          ],
          "name": "stderr"
        }
      ]
    },
    {
      "cell_type": "code",
      "metadata": {
        "id": "yB4TX2juLxKq"
      },
      "source": [
        "# Ваши идеи по улучшению моделей"
      ],
      "execution_count": null,
      "outputs": []
    },
    {
      "cell_type": "code",
      "metadata": {
        "id": "wEbumRn9_wmo"
      },
      "source": [
        "#predictions = clf.predict_proba(X_test)\n",
        "#print(accuracy_score(y_test, predictions[:, 1] > 0.7))\n",
        "fpr, tpr, _ = roc_curve(y_test, y_pred )\n",
        "auc = roc_auc_score(y_test, y_pred)"
      ],
      "execution_count": null,
      "outputs": []
    },
    {
      "cell_type": "code",
      "metadata": {
        "id": "kZnuXyBMLxKs",
        "colab": {
          "base_uri": "https://localhost:8080/",
          "height": 334
        },
        "outputId": "221c6c1b-19aa-44b5-c2d9-371fcc821d2b"
      },
      "source": [
        "plt.figure(figsize=(10, 5))\n",
        "plt.plot(fpr, tpr)\n",
        "plt.xlabel('FPR')\n",
        "plt.ylabel('TPR')\n",
        "plt.grid()\n",
        "plt.show()"
      ],
      "execution_count": null,
      "outputs": [
        {
          "output_type": "display_data",
          "data": {
            "image/png": "[encoded data removed]",
            "text/plain": [
              "<Figure size 720x360 with 1 Axes>"
            ]
          },
          "metadata": {
            "tags": [],
            "needs_background": "light"
          }
        }
      ]
    },
    {
      "cell_type": "code",
      "metadata": {
        "id": "bVpQe2RjLxKv",
        "colab": {
          "base_uri": "https://localhost:8080/"
        },
        "outputId": "8d618810-ec3c-41f3-e0ea-9922593a120d"
      },
      "source": [
        "auc"
      ],
      "execution_count": null,
      "outputs": [
        {
          "output_type": "execute_result",
          "data": {
            "text/plain": [
              "0.9229697771713767"
            ]
          },
          "metadata": {
            "tags": []
          },
          "execution_count": 138
        }
      ]
    },
    {
      "cell_type": "code",
      "metadata": {
        "id": "ybf2bzqn_-tJ"
      },
      "source": [
        ""
      ],
      "execution_count": null,
      "outputs": []
    }
  ]
}